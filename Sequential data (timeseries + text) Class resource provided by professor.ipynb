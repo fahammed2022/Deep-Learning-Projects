{
  "nbformat": 4,
  "nbformat_minor": 0,
  "metadata": {
    "colab": {
      "provenance": [],
      "collapsed_sections": [
        "BL1QeLMLEznr",
        "xIPjMfSSFQGg"
      ],
      "toc_visible": true,
      "include_colab_link": true
    },
    "kernelspec": {
      "name": "python3",
      "display_name": "Python 3"
    },
    "gpuClass": "standard",
    "accelerator": "GPU"
  },
  "cells": [
    {
      "cell_type": "markdown",
      "metadata": {
        "id": "view-in-github",
        "colab_type": "text"
      },
      "source": [
        "<a href=\"https://colab.research.google.com/github/fahammed2022/Deep-Learning-Projects/blob/main/Sequential%20data%20(timeseries%20%2B%20text)%20Class%20resource%20provided%20by%20professor.ipynb\" target=\"_parent\"><img src=\"https://colab.research.google.com/assets/colab-badge.svg\" alt=\"Open In Colab\"/></a>"
      ]
    },
    {
      "cell_type": "markdown",
      "metadata": {
        "id": "KT9ZKo3q-2-F"
      },
      "source": [
        "# CAP 6619 - Deep Learning\n",
        "## Project 5\n",
        "## Sequential data (timeseries + text)"
      ]
    },
    {
      "cell_type": "markdown",
      "source": [
        "## Part 1: Temperature forecasting using RNNs\n",
        "\n",
        "Following closely along Chapter 10 of [our textbook](https://learning.oreilly.com/library/view/deep-learning-with/9781617296864),  Part 1 uses a temperature-forecasting task as a example of using DL to process and make predictions on sequential data.\n",
        "\n",
        "Dataset: recorded at [the weather station at the Max Planck Institute for Biogeochemistry in Jena, Germany](https://www.bgc-jena.mpg.de/wetter/), it consists of 14 different quantities (such as temperature, pressure, humidity, wind direction, and so on)  recorded every 10 minutes over several years. The original data goes back to 2003, but the subset of the data we’ll download is limited to 2009–2016."
      ],
      "metadata": {
        "id": "IJ2pbEi8HjiP"
      }
    },
    {
      "cell_type": "markdown",
      "metadata": {
        "id": "vPc4CuJc--cX"
      },
      "source": [
        "Useful sources and references for Part 1:\n",
        "\n",
        "https://colab.research.google.com/github/fchollet/deep-learning-with-python-notebooks/blob/master/chapter10_dl-for-timeseries.ipynb\n"
      ]
    },
    {
      "cell_type": "markdown",
      "metadata": {
        "id": "Gt7GMeCa_AvJ"
      },
      "source": [
        "### Acquiring and inspecting the data"
      ]
    },
    {
      "cell_type": "code",
      "source": [
        "!wget https://s3.amazonaws.com/keras-datasets/jena_climate_2009_2016.csv.zip\n",
        "!unzip jena_climate_2009_2016.csv.zip"
      ],
      "metadata": {
        "colab": {
          "base_uri": "https://localhost:8080/"
        },
        "id": "Z_lwQzNMIba3",
        "outputId": "c76fd0c1-e18b-4186-94cd-6ce25a5ce254"
      },
      "execution_count": null,
      "outputs": [
        {
          "output_type": "stream",
          "name": "stdout",
          "text": [
            "--2023-04-07 23:17:45--  https://s3.amazonaws.com/keras-datasets/jena_climate_2009_2016.csv.zip\n",
            "Resolving s3.amazonaws.com (s3.amazonaws.com)... 52.217.44.166, 52.217.166.24, 54.231.204.104, ...\n",
            "Connecting to s3.amazonaws.com (s3.amazonaws.com)|52.217.44.166|:443... connected.\n",
            "HTTP request sent, awaiting response... 200 OK\n",
            "Length: 13565642 (13M) [application/zip]\n",
            "Saving to: ‘jena_climate_2009_2016.csv.zip’\n",
            "\n",
            "jena_climate_2009_2 100%[===================>]  12.94M  53.8MB/s    in 0.2s    \n",
            "\n",
            "2023-04-07 23:17:46 (53.8 MB/s) - ‘jena_climate_2009_2016.csv.zip’ saved [13565642/13565642]\n",
            "\n",
            "Archive:  jena_climate_2009_2016.csv.zip\n",
            "  inflating: jena_climate_2009_2016.csv  \n",
            "  inflating: __MACOSX/._jena_climate_2009_2016.csv  \n"
          ]
        }
      ]
    },
    {
      "cell_type": "markdown",
      "source": [
        "**Inspecting the data**"
      ],
      "metadata": {
        "id": "3qW4ZeZlIiUm"
      }
    },
    {
      "cell_type": "code",
      "source": [
        "import os\n",
        "fname = os.path.join(\"jena_climate_2009_2016.csv\")\n",
        "\n",
        "with open(fname) as f:\n",
        "    data = f.read()\n",
        "\n",
        "lines = data.split(\"\\n\")\n",
        "header = lines[0].split(\",\")\n",
        "lines = lines[1:]\n",
        "print(header)\n",
        "print(len(lines))"
      ],
      "metadata": {
        "id": "2XEY7e4fIzEo",
        "colab": {
          "base_uri": "https://localhost:8080/"
        },
        "outputId": "219d7be2-db9c-48aa-a542-9fb4e93e663f"
      },
      "execution_count": null,
      "outputs": [
        {
          "output_type": "stream",
          "name": "stdout",
          "text": [
            "['\"Date Time\"', '\"p (mbar)\"', '\"T (degC)\"', '\"Tpot (K)\"', '\"Tdew (degC)\"', '\"rh (%)\"', '\"VPmax (mbar)\"', '\"VPact (mbar)\"', '\"VPdef (mbar)\"', '\"sh (g/kg)\"', '\"H2OC (mmol/mol)\"', '\"rho (g/m**3)\"', '\"wv (m/s)\"', '\"max. wv (m/s)\"', '\"wd (deg)\"']\n",
            "420451\n"
          ]
        }
      ]
    },
    {
      "cell_type": "markdown",
      "source": [
        "**Parsing the data**"
      ],
      "metadata": {
        "id": "hSKeHVhUI4HY"
      }
    },
    {
      "cell_type": "code",
      "source": [
        "import numpy as np\n",
        "temperature = np.zeros((len(lines),))\n",
        "raw_data = np.zeros((len(lines), len(header) - 1))\n",
        "for i, line in enumerate(lines):\n",
        "    values = [float(x) for x in line.split(\",\")[1:]]\n",
        "    temperature[i] = values[1]\n",
        "    raw_data[i, :] = values[:]"
      ],
      "metadata": {
        "id": "UzgjFI8yI3Lp"
      },
      "execution_count": null,
      "outputs": []
    },
    {
      "cell_type": "markdown",
      "metadata": {
        "id": "O5Vaiqy_IUpo"
      },
      "source": [
        "**Plotting the temperature timeseries**"
      ]
    },
    {
      "cell_type": "code",
      "execution_count": null,
      "metadata": {
        "id": "yM0qx_iyIUpp",
        "colab": {
          "base_uri": "https://localhost:8080/",
          "height": 452
        },
        "outputId": "ba7f9f74-3ebe-4f9f-e439-e18e0e0a5d72"
      },
      "outputs": [
        {
          "output_type": "execute_result",
          "data": {
            "text/plain": [
              "[<matplotlib.lines.Line2D at 0x7f96e0dcdf10>]"
            ]
          },
          "metadata": {},
          "execution_count": 4
        },
        {
          "output_type": "display_data",
          "data": {
            "text/plain": [
              "<Figure size 640x480 with 1 Axes>"
            ],
            "image/png": "[encoded data removed]"
          },
          "metadata": {}
        }
      ],
      "source": [
        "from matplotlib import pyplot as plt\n",
        "plt.plot(range(len(temperature)), temperature)"
      ]
    },
    {
      "cell_type": "markdown",
      "metadata": {
        "id": "HHLdVMlgIUpp"
      },
      "source": [
        "**Plotting the first 10 days of the temperature timeseries**"
      ]
    },
    {
      "cell_type": "code",
      "execution_count": null,
      "metadata": {
        "id": "6OOjyhM3IUpp",
        "colab": {
          "base_uri": "https://localhost:8080/",
          "height": 448
        },
        "outputId": "5a1bf676-aa4e-4e71-ba92-dee307723876"
      },
      "outputs": [
        {
          "output_type": "execute_result",
          "data": {
            "text/plain": [
              "[<matplotlib.lines.Line2D at 0x7f96e0d26370>]"
            ]
          },
          "metadata": {},
          "execution_count": 5
        },
        {
          "output_type": "display_data",
          "data": {
            "text/plain": [
              "<Figure size 640x480 with 1 Axes>"
            ],
            "image/png": "[encoded data removed]"
          },
          "metadata": {}
        }
      ],
      "source": [
        "plt.plot(range(1440), temperature[:1440])"
      ]
    },
    {
      "cell_type": "markdown",
      "metadata": {
        "id": "aywlbPQmIUpq"
      },
      "source": [
        "**Computing the number of samples we'll use for each data split**"
      ]
    },
    {
      "cell_type": "code",
      "execution_count": null,
      "metadata": {
        "id": "-0bshpxgIUpr",
        "colab": {
          "base_uri": "https://localhost:8080/"
        },
        "outputId": "536b7e17-43d6-4340-f372-8df56a5b2c93"
      },
      "outputs": [
        {
          "output_type": "stream",
          "name": "stdout",
          "text": [
            "num_train_samples: 210225\n",
            "num_val_samples: 105112\n",
            "num_test_samples: 105114\n"
          ]
        }
      ],
      "source": [
        "num_train_samples = int(0.5 * len(raw_data))\n",
        "num_val_samples = int(0.25 * len(raw_data))\n",
        "num_test_samples = len(raw_data) - num_train_samples - num_val_samples\n",
        "print(\"num_train_samples:\", num_train_samples)\n",
        "print(\"num_val_samples:\", num_val_samples)\n",
        "print(\"num_test_samples:\", num_test_samples)"
      ]
    },
    {
      "cell_type": "markdown",
      "metadata": {
        "id": "9TfuVCN1IUpt"
      },
      "source": [
        "### Preparing the data"
      ]
    },
    {
      "cell_type": "markdown",
      "metadata": {
        "id": "Dxl-1ciCIUpt"
      },
      "source": [
        "**Normalizing the data**"
      ]
    },
    {
      "cell_type": "code",
      "execution_count": null,
      "metadata": {
        "id": "bKpqgtYNIUpt"
      },
      "outputs": [],
      "source": [
        "mean = raw_data[:num_train_samples].mean(axis=0)\n",
        "raw_data -= mean\n",
        "std = raw_data[:num_train_samples].std(axis=0)\n",
        "raw_data /= std"
      ]
    },
    {
      "cell_type": "code",
      "execution_count": null,
      "metadata": {
        "id": "zQjrig3HIUpu",
        "colab": {
          "base_uri": "https://localhost:8080/"
        },
        "outputId": "dd588e23-67c1-4ff0-d9c3-d8996bcf2adc"
      },
      "outputs": [
        {
          "output_type": "stream",
          "name": "stdout",
          "text": [
            "[0, 1, 2] 3\n",
            "[1, 2, 3] 4\n",
            "[2, 3, 4] 5\n",
            "[3, 4, 5] 6\n",
            "[4, 5, 6] 7\n"
          ]
        }
      ],
      "source": [
        "import numpy as np\n",
        "from tensorflow import keras\n",
        "int_sequence = np.arange(10)\n",
        "dummy_dataset = keras.utils.timeseries_dataset_from_array(\n",
        "    data=int_sequence[:-3],\n",
        "    targets=int_sequence[3:],\n",
        "    sequence_length=3,\n",
        "    batch_size=2,\n",
        ")\n",
        "\n",
        "for inputs, targets in dummy_dataset:\n",
        "    for i in range(inputs.shape[0]):\n",
        "        print([int(x) for x in inputs[i]], int(targets[i]))"
      ]
    },
    {
      "cell_type": "markdown",
      "metadata": {
        "id": "7W8QRc78IUpu"
      },
      "source": [
        "**Instantiating datasets for training, validation, and testing**"
      ]
    },
    {
      "cell_type": "code",
      "execution_count": null,
      "metadata": {
        "id": "-azjOrpyIUpu"
      },
      "outputs": [],
      "source": [
        "sampling_rate = 6\n",
        "sequence_length = 120\n",
        "delay = sampling_rate * (sequence_length + 24 - 1)\n",
        "batch_size = 256\n",
        "\n",
        "train_dataset = keras.utils.timeseries_dataset_from_array(\n",
        "    raw_data[:-delay],\n",
        "    targets=temperature[delay:],\n",
        "    sampling_rate=sampling_rate,\n",
        "    sequence_length=sequence_length,\n",
        "    shuffle=True,\n",
        "    batch_size=batch_size,\n",
        "    start_index=0,\n",
        "    end_index=num_train_samples)\n",
        "\n",
        "val_dataset = keras.utils.timeseries_dataset_from_array(\n",
        "    raw_data[:-delay],\n",
        "    targets=temperature[delay:],\n",
        "    sampling_rate=sampling_rate,\n",
        "    sequence_length=sequence_length,\n",
        "    shuffle=True,\n",
        "    batch_size=batch_size,\n",
        "    start_index=num_train_samples,\n",
        "    end_index=num_train_samples + num_val_samples)\n",
        "\n",
        "test_dataset = keras.utils.timeseries_dataset_from_array(\n",
        "    raw_data[:-delay],\n",
        "    targets=temperature[delay:],\n",
        "    sampling_rate=sampling_rate,\n",
        "    sequence_length=sequence_length,\n",
        "    shuffle=True,\n",
        "    batch_size=batch_size,\n",
        "    start_index=num_train_samples + num_val_samples)"
      ]
    },
    {
      "cell_type": "markdown",
      "metadata": {
        "id": "VqB48hFtIUpv"
      },
      "source": [
        "**Inspecting the output of one of our datasets**"
      ]
    },
    {
      "cell_type": "code",
      "execution_count": null,
      "metadata": {
        "id": "RkPtPfVdIUpw",
        "colab": {
          "base_uri": "https://localhost:8080/"
        },
        "outputId": "33c9f1f8-d504-4328-90e4-cb0d53930f19"
      },
      "outputs": [
        {
          "output_type": "stream",
          "name": "stdout",
          "text": [
            "samples shape: (256, 120, 14)\n",
            "targets shape: (256,)\n"
          ]
        }
      ],
      "source": [
        "for samples, targets in train_dataset:\n",
        "    print(\"samples shape:\", samples.shape)\n",
        "    print(\"targets shape:\", targets.shape)\n",
        "    break"
      ]
    },
    {
      "cell_type": "markdown",
      "metadata": {
        "id": "ko85MBf3_PLo"
      },
      "source": [
        "### Building a baseline \"model\"\n",
        "\n",
        "In this case we will try to predict the temperature by simply assuming that the temperature 24 hours from now will be equal to the temperature right now.\n",
        "\n",
        "We shall use the mean absolute error (MAE) as a metric of performance and consider this (rather silly) \"model\" as our baseline.\n"
      ]
    },
    {
      "cell_type": "markdown",
      "metadata": {
        "id": "R5bvOX9ZIUpw"
      },
      "source": [
        "**Computing the common-sense baseline MAE**"
      ]
    },
    {
      "cell_type": "code",
      "execution_count": null,
      "metadata": {
        "id": "3J4emypcIUpx",
        "colab": {
          "base_uri": "https://localhost:8080/"
        },
        "outputId": "0f558cdf-3a4e-439b-9c6c-ed672a9d31c1"
      },
      "outputs": [
        {
          "output_type": "stream",
          "name": "stdout",
          "text": [
            "Validation MAE: 2.44\n",
            "Test MAE: 2.62\n"
          ]
        }
      ],
      "source": [
        "def evaluate_naive_method(dataset):\n",
        "    total_abs_err = 0.\n",
        "    samples_seen = 0\n",
        "    for samples, targets in dataset:\n",
        "        preds = samples[:, -1, 1] * std[1] + mean[1]\n",
        "        total_abs_err += np.sum(np.abs(preds - targets))\n",
        "        samples_seen += samples.shape[0]\n",
        "    return total_abs_err / samples_seen\n",
        "\n",
        "print(f\"Validation MAE: {evaluate_naive_method(val_dataset):.2f}\")\n",
        "print(f\"Test MAE: {evaluate_naive_method(test_dataset):.2f}\")"
      ]
    },
    {
      "cell_type": "markdown",
      "metadata": {
        "id": "oG1aHr4Y_Xej"
      },
      "source": [
        "### Building our *real* first model\n",
        "\n",
        "This is essentially the \"simple LSTM-based model\" from Listing 10.12 in the textbook."
      ]
    },
    {
      "cell_type": "code",
      "execution_count": null,
      "metadata": {
        "id": "UCNOgENsIUpx",
        "colab": {
          "base_uri": "https://localhost:8080/"
        },
        "outputId": "f08f01bc-e1ec-46b1-8b88-d302512ceaf0"
      },
      "outputs": [
        {
          "output_type": "stream",
          "name": "stdout",
          "text": [
            "Epoch 1/10\n",
            "819/819 [==============================] - 133s 159ms/step - loss: 42.0037 - mae: 4.7041 - val_loss: 12.4410 - val_mae: 2.6894\n",
            "Epoch 2/10\n",
            "819/819 [==============================] - 151s 184ms/step - loss: 11.0687 - mae: 2.5840 - val_loss: 9.8377 - val_mae: 2.4399\n",
            "Epoch 3/10\n",
            "819/819 [==============================] - 137s 167ms/step - loss: 9.8310 - mae: 2.4510 - val_loss: 9.9172 - val_mae: 2.4440\n",
            "Epoch 4/10\n",
            "819/819 [==============================] - 136s 166ms/step - loss: 9.2879 - mae: 2.3862 - val_loss: 9.9088 - val_mae: 2.4261\n",
            "Epoch 5/10\n",
            "819/819 [==============================] - 137s 167ms/step - loss: 8.8541 - mae: 2.3266 - val_loss: 10.0811 - val_mae: 2.4553\n",
            "Epoch 6/10\n",
            "819/819 [==============================] - 137s 166ms/step - loss: 8.5324 - mae: 2.2828 - val_loss: 10.2302 - val_mae: 2.4889\n",
            "Epoch 7/10\n",
            "819/819 [==============================] - 135s 164ms/step - loss: 8.3365 - mae: 2.2547 - val_loss: 10.2619 - val_mae: 2.4880\n",
            "Epoch 8/10\n",
            "819/819 [==============================] - 131s 159ms/step - loss: 8.1450 - mae: 2.2284 - val_loss: 10.0642 - val_mae: 2.4601\n",
            "Epoch 9/10\n",
            "819/819 [==============================] - 121s 148ms/step - loss: 7.9995 - mae: 2.2073 - val_loss: 10.2676 - val_mae: 2.4896\n",
            "Epoch 10/10\n",
            "819/819 [==============================] - 135s 165ms/step - loss: 7.8723 - mae: 2.1891 - val_loss: 10.0926 - val_mae: 2.4661\n",
            "405/405 [==============================] - 29s 68ms/step - loss: 10.9670 - mae: 2.6043\n",
            "Test MAE: 2.60\n"
          ]
        }
      ],
      "source": [
        "from tensorflow import keras\n",
        "from tensorflow.keras import layers\n",
        "\n",
        "inputs = keras.Input(shape=(sequence_length, raw_data.shape[-1]))\n",
        "x = layers.LSTM(16)(inputs)\n",
        "outputs = layers.Dense(1)(x)\n",
        "model = keras.Model(inputs, outputs)\n",
        "\n",
        "callbacks = [\n",
        "    keras.callbacks.ModelCheckpoint(\"jena_lstm.keras\",\n",
        "                                    save_best_only=True)\n",
        "]\n",
        "model.compile(optimizer=\"rmsprop\", loss=\"mse\", metrics=[\"mae\"])\n",
        "history = model.fit(train_dataset,\n",
        "                    epochs=10,\n",
        "                    validation_data=val_dataset,\n",
        "                    callbacks=callbacks)\n",
        "\n",
        "model = keras.models.load_model(\"jena_lstm.keras\")\n",
        "print(f\"Test MAE: {model.evaluate(test_dataset)[1]:.2f}\")"
      ]
    },
    {
      "cell_type": "code",
      "source": [
        "import matplotlib.pyplot as plt\n",
        "loss = history.history[\"mae\"]\n",
        "val_loss = history.history[\"val_mae\"]\n",
        "epochs = range(1, len(loss) + 1)\n",
        "plt.figure()\n",
        "plt.plot(epochs, loss, \"bo\", label=\"Training MAE\")\n",
        "plt.plot(epochs, val_loss, \"b\", label=\"Validation MAE\")\n",
        "plt.title(\"Training and validation MAE\")\n",
        "plt.legend()\n",
        "plt.show()"
      ],
      "metadata": {
        "id": "F29usgYBN_ZZ",
        "colab": {
          "base_uri": "https://localhost:8080/",
          "height": 452
        },
        "outputId": "6483e4b1-271b-4708-cf26-c7a646f379db"
      },
      "execution_count": null,
      "outputs": [
        {
          "output_type": "display_data",
          "data": {
            "text/plain": [
              "<Figure size 640x480 with 1 Axes>"
            ],
            "image/png": "[encoded data removed]"
          },
          "metadata": {}
        }
      ]
    },
    {
      "cell_type": "markdown",
      "source": [
        "### TODO 1: Improve the solution for temperature forecast\n",
        "Write code to produce another solution to the temperature forecasting problem that outperforms the one above, i.e., has a lower Test MAE.\n",
        "\n",
        "You can use a (combination of) different architecture (e.g., bidirectional RNN, see Listing 10.24 in the textbook), dropout and/or other regularization strategies, hyperparameter optimizations, or any other acceptable \"trick\" in the deep learning world."
      ],
      "metadata": {
        "id": "stgojgb5LXjq"
      }
    },
    {
      "cell_type": "code",
      "source": [
        "# Training and evaluating a dropout-regularized, stacked GRU model for 10 epochs\n",
        "\n",
        "inputs = keras.Input(shape=(sequence_length, raw_data.shape[-1]))\n",
        "x = layers.GRU(32, recurrent_dropout=0.5, return_sequences=True)(inputs)\n",
        "x = layers.GRU(32, recurrent_dropout=0.5)(x)\n",
        "x = layers.Dropout(0.5)(x)\n",
        "outputs = layers.Dense(1)(x)\n",
        "my_model = keras.Model(inputs, outputs)\n",
        "\n",
        "callbacks = [\n",
        "    keras.callbacks.ModelCheckpoint(\"jena_stacked_gru_dropout.keras\",\n",
        "                                    save_best_only=True)\n",
        "]\n",
        "my_model.compile(optimizer=\"rmsprop\", loss=\"mse\", metrics=[\"mae\"])\n",
        "history = my_model.fit(train_dataset,\n",
        "                    epochs=10,\n",
        "                    validation_data=val_dataset,\n",
        "                    callbacks=callbacks)\n",
        "my_model = keras.models.load_model(\"jena_stacked_gru_dropout.keras\")\n",
        "print(f\"Training MAE: {my_model.evaluate(train_dataset)[1]:.2f}\")\n",
        "print(f\"Test MAE: {my_model.evaluate(test_dataset)[1]:.2f}\")"
      ],
      "metadata": {
        "id": "Lw0QCE2o-2nO",
        "colab": {
          "base_uri": "https://localhost:8080/"
        },
        "outputId": "22935f57-f6c2-49d0-eb36-d2403ed7d8ee"
      },
      "execution_count": null,
      "outputs": [
        {
          "output_type": "stream",
          "name": "stdout",
          "text": [
            "Epoch 1/10\n",
            "819/819 [==============================] - 399s 481ms/step - loss: 26.5333 - mae: 3.7856 - val_loss: 9.2297 - val_mae: 2.3443\n",
            "Epoch 2/10\n",
            "819/819 [==============================] - 433s 528ms/step - loss: 14.0734 - mae: 2.9087 - val_loss: 9.7608 - val_mae: 2.4360\n",
            "Epoch 3/10\n",
            "819/819 [==============================] - 434s 529ms/step - loss: 13.2758 - mae: 2.8264 - val_loss: 8.9298 - val_mae: 2.3197\n",
            "Epoch 4/10\n",
            "819/819 [==============================] - 429s 524ms/step - loss: 12.7578 - mae: 2.7703 - val_loss: 8.7799 - val_mae: 2.3018\n",
            "Epoch 5/10\n",
            "819/819 [==============================] - 396s 483ms/step - loss: 12.1848 - mae: 2.7050 - val_loss: 9.1715 - val_mae: 2.3489\n",
            "Epoch 6/10\n",
            "819/819 [==============================] - 394s 481ms/step - loss: 11.7714 - mae: 2.6622 - val_loss: 8.9866 - val_mae: 2.3374\n",
            "Epoch 7/10\n",
            "819/819 [==============================] - 432s 527ms/step - loss: 11.3677 - mae: 2.6143 - val_loss: 9.4691 - val_mae: 2.4024\n",
            "Epoch 8/10\n",
            "819/819 [==============================] - 437s 534ms/step - loss: 10.9470 - mae: 2.5702 - val_loss: 9.3778 - val_mae: 2.3851\n",
            "Epoch 9/10\n",
            "819/819 [==============================] - 442s 540ms/step - loss: 10.5896 - mae: 2.5271 - val_loss: 9.0521 - val_mae: 2.3445\n",
            "Epoch 10/10\n",
            "819/819 [==============================] - 433s 528ms/step - loss: 10.2964 - mae: 2.4950 - val_loss: 9.6064 - val_mae: 2.4221\n",
            "819/819 [==============================] - 102s 123ms/step - loss: 8.6652 - mae: 2.2964\n",
            "Training MAE: 2.30\n",
            "405/405 [==============================] - 50s 122ms/step - loss: 9.8458 - mae: 2.4532\n",
            "Test MAE: 2.45\n"
          ]
        }
      ]
    },
    {
      "cell_type": "code",
      "source": [
        "import matplotlib.pyplot as plt\n",
        "loss = history.history[\"mae\"]\n",
        "val_loss = history.history[\"val_mae\"]\n",
        "epochs = range(1, len(loss) + 1)\n",
        "plt.figure()\n",
        "plt.plot(epochs, loss, \"bo\", label=\"Training MAE\")\n",
        "plt.plot(epochs, val_loss, \"b\", label=\"Validation MAE\")\n",
        "plt.title(\"Training and validation MAE\")\n",
        "plt.legend()\n",
        "plt.show()"
      ],
      "metadata": {
        "id": "OUm2oyXL_adT",
        "colab": {
          "base_uri": "https://localhost:8080/",
          "height": 452
        },
        "outputId": "f656d53c-92aa-457b-da07-2c6fef13809c"
      },
      "execution_count": null,
      "outputs": [
        {
          "output_type": "display_data",
          "data": {
            "text/plain": [
              "<Figure size 640x480 with 1 Axes>"
            ],
            "image/png": "[encoded data removed]"
          },
          "metadata": {}
        }
      ]
    },
    {
      "cell_type": "code",
      "source": [
        "# Training and evaluating a dropout-regularized, stacked GRU model for 4 epochs\n",
        "\n",
        "inputs = keras.Input(shape=(sequence_length, raw_data.shape[-1]))\n",
        "x = layers.GRU(32, recurrent_dropout=0.5, return_sequences=True)(inputs)\n",
        "x = layers.GRU(32, recurrent_dropout=0.5)(x)\n",
        "x = layers.Dropout(0.5)(x)\n",
        "outputs = layers.Dense(1)(x)\n",
        "my_model = keras.Model(inputs, outputs)\n",
        "\n",
        "callbacks = [\n",
        "    keras.callbacks.ModelCheckpoint(\"jena_stacked_gru_dropout.keras\",\n",
        "                                    save_best_only=True)\n",
        "]\n",
        "my_model.compile(optimizer=\"rmsprop\", loss=\"mse\", metrics=[\"mae\"])\n",
        "history = my_model.fit(train_dataset,\n",
        "                    epochs=4,\n",
        "                    validation_data=val_dataset,\n",
        "                    callbacks=callbacks)\n",
        "my_model = keras.models.load_model(\"jena_stacked_gru_dropout.keras\")\n",
        "print(f\"Training MAE: {my_model.evaluate(train_dataset)[1]:.2f}\")\n",
        "print(f\"Test MAE: {my_model.evaluate(test_dataset)[1]:.2f}\")"
      ],
      "metadata": {
        "colab": {
          "base_uri": "https://localhost:8080/"
        },
        "outputId": "6dc6f746-15df-43ab-b6e7-7804ceecc5bd",
        "id": "7LVyz1rGaNJP"
      },
      "execution_count": null,
      "outputs": [
        {
          "output_type": "stream",
          "name": "stdout",
          "text": [
            "Epoch 1/4\n",
            "819/819 [==============================] - 448s 541ms/step - loss: 24.8168 - mae: 3.6882 - val_loss: 9.5393 - val_mae: 2.3905\n",
            "Epoch 2/4\n",
            "819/819 [==============================] - 431s 526ms/step - loss: 14.1042 - mae: 2.9136 - val_loss: 8.9477 - val_mae: 2.3186\n",
            "Epoch 3/4\n",
            "819/819 [==============================] - 431s 526ms/step - loss: 13.3027 - mae: 2.8254 - val_loss: 9.5067 - val_mae: 2.4106\n",
            "Epoch 4/4\n",
            "819/819 [==============================] - 429s 524ms/step - loss: 12.7982 - mae: 2.7745 - val_loss: 8.9976 - val_mae: 2.3277\n",
            "819/819 [==============================] - 101s 122ms/step - loss: 9.7718 - mae: 2.4274\n",
            "Training MAE: 2.43\n",
            "405/405 [==============================] - 50s 123ms/step - loss: 10.2189 - mae: 2.5049\n",
            "Test MAE: 2.50\n"
          ]
        }
      ]
    },
    {
      "cell_type": "code",
      "source": [
        "import matplotlib.pyplot as plt\n",
        "loss = history.history[\"mae\"]\n",
        "val_loss = history.history[\"val_mae\"]\n",
        "epochs = range(1, len(loss) + 1)\n",
        "plt.figure()\n",
        "plt.plot(epochs, loss, \"bo\", label=\"Training MAE\")\n",
        "plt.plot(epochs, val_loss, \"b\", label=\"Validation MAE\")\n",
        "plt.title(\"Training and validation MAE\")\n",
        "plt.legend()\n",
        "plt.show()"
      ],
      "metadata": {
        "colab": {
          "base_uri": "https://localhost:8080/",
          "height": 452
        },
        "id": "8IWw7fnTiFfI",
        "outputId": "2b7934a9-bc41-4e0f-f8f5-7d3e9b9a2611"
      },
      "execution_count": null,
      "outputs": [
        {
          "output_type": "display_data",
          "data": {
            "text/plain": [
              "<Figure size 640x480 with 1 Axes>"
            ],
            "image/png": "[encoded data removed]"
          },
          "metadata": {}
        }
      ]
    },
    {
      "cell_type": "markdown",
      "metadata": {
        "id": "NCOWYkha7sdJ"
      },
      "source": [
        "### Summary table\n",
        "(Example, manually generated)\n",
        "\n",
        "You can use the table below to show a summary of the experimental results. **Replace the Test MAE values and other contents with your own!**\n",
        "\n",
        "| Method | Test MAE | Remarks |\n",
        "| --- | --- | --- |\n",
        "| Baseline | 2.62 | Silly model: \"Temperature 24 hours in the future will be the same as it is now\" |\n",
        "| Real first model (LSTM) | 2.60| Slightly better than baseline |\n",
        "| *Improved* model / variation > Dropout-regularized, stacked GRU model with 10 epochs | 2.45| Best overall, no longer overfitting |\n",
        "| *Improved* model / variation > Dropout-regularized, stacked GRU model with 4 epochs | 2.50| Better than the Basline and LSTM model but suffers underfitting |"
      ]
    },
    {
      "cell_type": "markdown",
      "source": [
        "In our improved model, we tried a stack of two dropout-regularized recurrent layers. For a change, we used Gated Recurrent Unit (GRU) layers instead of LSTM. We can see that the added layer does improve the results a bit, though not dramatically. We train our model for 10 and 4 epochs and both have achieved a lower MAE score than our baseline and LSTM model."
      ],
      "metadata": {
        "id": "FbeXGOAGVreq"
      }
    },
    {
      "cell_type": "markdown",
      "source": [
        "## Part 2: Sentiment analysis using LSTMs\n",
        "\n",
        "In Part 2 we will revisit the IMDB movie review classification task from an earlier assignment, this time using more sophisticated approaches and architectures.\n",
        "\n",
        "Please refer to Chapter 11 of [our textbook](https://learning.oreilly.com/library/view/deep-learning-with/9781617296864) for background information on NLP and approaches for text representation in deep learning architectures.\n",
        "\n",
        "The code (and much of the text) below is essentially from https://www.tensorflow.org/text/tutorials/text_classification_rnn  \n"
      ],
      "metadata": {
        "id": "HPPt3a7jNNnM"
      }
    },
    {
      "cell_type": "markdown",
      "metadata": {
        "id": "5dCbHdZZNNnN"
      },
      "source": [
        "Useful sources and references for Part 2:\n",
        "\n",
        "- https://colab.research.google.com/github/fchollet/deep-learning-with-python-notebooks/blob/master/chapter11_part01_introduction.ipynb\n",
        "- https://colab.research.google.com/github/fchollet/deep-learning-with-python-notebooks/blob/master/chapter11_part02_sequence-models.ipynb\n"
      ]
    },
    {
      "cell_type": "markdown",
      "metadata": {
        "id": "_2VQo4bajwUU"
      },
      "source": [
        "### Imports + auxiliary function"
      ]
    },
    {
      "cell_type": "code",
      "execution_count": null,
      "metadata": {
        "id": "z682XYsrjkY9"
      },
      "outputs": [],
      "source": [
        "import numpy as np\n",
        "\n",
        "import tensorflow_datasets as tfds\n",
        "import tensorflow as tf\n",
        "\n",
        "tfds.disable_progress_bar()"
      ]
    },
    {
      "cell_type": "markdown",
      "metadata": {
        "id": "1rXHa-w9JZhb"
      },
      "source": [
        "Import `matplotlib` and create a helper function to plot graphs:"
      ]
    },
    {
      "cell_type": "code",
      "execution_count": null,
      "metadata": {
        "id": "Mp1Z7P9pYRSK"
      },
      "outputs": [],
      "source": [
        "import matplotlib.pyplot as plt\n",
        "\n",
        "\n",
        "def plot_graphs(history, metric):\n",
        "  plt.plot(history.history[metric])\n",
        "  plt.plot(history.history['val_'+metric], '')\n",
        "  plt.xlabel(\"Epochs\")\n",
        "  plt.ylabel(metric)\n",
        "  plt.legend([metric, 'val_'+metric])"
      ]
    },
    {
      "cell_type": "markdown",
      "metadata": {
        "id": "pRmMubr0jrE2"
      },
      "source": [
        "### Setup input pipeline\n",
        "\n",
        "\n",
        "The IMDB large movie review dataset is a *binary classification* dataset—all the reviews have either a *positive* or *negative* sentiment.\n",
        "\n",
        "Download the dataset using [TFDS](https://www.tensorflow.org/datasets). See the [loading text tutorial](https://www.tensorflow.org/tutorials/load_data/text) for details on how to load this sort of data manually.\n"
      ]
    },
    {
      "cell_type": "code",
      "execution_count": null,
      "metadata": {
        "id": "SHRwRoP2nVHX",
        "colab": {
          "base_uri": "https://localhost:8080/"
        },
        "outputId": "8220850c-dc59-42f8-e526-dbd99a4a4f14"
      },
      "outputs": [
        {
          "output_type": "stream",
          "name": "stdout",
          "text": [
            "Downloading and preparing dataset Unknown size (download: Unknown size, generated: Unknown size, total: Unknown size) to /root/tensorflow_datasets/imdb_reviews/plain_text/1.0.0...\n",
            "Dataset imdb_reviews downloaded and prepared to /root/tensorflow_datasets/imdb_reviews/plain_text/1.0.0. Subsequent calls will reuse this data.\n"
          ]
        },
        {
          "output_type": "execute_result",
          "data": {
            "text/plain": [
              "(TensorSpec(shape=(), dtype=tf.string, name=None),\n",
              " TensorSpec(shape=(), dtype=tf.int64, name=None))"
            ]
          },
          "metadata": {},
          "execution_count": 3
        }
      ],
      "source": [
        "dataset, info = tfds.load('imdb_reviews', with_info=True,\n",
        "                          as_supervised=True)\n",
        "train_dataset, test_dataset = dataset['train'], dataset['test']\n",
        "\n",
        "train_dataset.element_spec"
      ]
    },
    {
      "cell_type": "markdown",
      "metadata": {
        "id": "nWA4c2ir7g6p"
      },
      "source": [
        "Initially this returns a dataset of (text, label pairs):"
      ]
    },
    {
      "cell_type": "code",
      "execution_count": null,
      "metadata": {
        "id": "vd4_BGKyurao",
        "colab": {
          "base_uri": "https://localhost:8080/"
        },
        "outputId": "b3257e62-02d7-4ef9-99b1-fee8dc6a2ad7"
      },
      "outputs": [
        {
          "output_type": "stream",
          "name": "stdout",
          "text": [
            "text:  b\"This was an absolutely terrible movie. Don't be lured in by Christopher Walken or Michael Ironside. Both are great actors, but this must simply be their worst role in history. Even their great acting could not redeem this movie's ridiculous storyline. This movie is an early nineties US propaganda piece. The most pathetic scenes were those when the Columbian rebels were making their cases for revolutions. Maria Conchita Alonso appeared phony, and her pseudo-love affair with Walken was nothing but a pathetic emotional plug in a movie that was devoid of any real meaning. I am disappointed that there are movies like this, ruining actor's like Christopher Walken's good name. I could barely sit through it.\"\n",
            "label:  0\n"
          ]
        }
      ],
      "source": [
        "for example, label in train_dataset.take(1):\n",
        "  print('text: ', example.numpy())\n",
        "  print('label: ', label.numpy())"
      ]
    },
    {
      "cell_type": "markdown",
      "metadata": {
        "id": "z2qVJzcEluH_"
      },
      "source": [
        "Next shuffle the data for training and create batches of these `(text, label)` pairs:"
      ]
    },
    {
      "cell_type": "code",
      "execution_count": null,
      "metadata": {
        "id": "dDsCaZCDYZgm"
      },
      "outputs": [],
      "source": [
        "BUFFER_SIZE = 10000\n",
        "BATCH_SIZE = 64"
      ]
    },
    {
      "cell_type": "code",
      "execution_count": null,
      "metadata": {
        "id": "VznrltNOnUc5"
      },
      "outputs": [],
      "source": [
        "train_dataset = train_dataset.shuffle(BUFFER_SIZE).batch(BATCH_SIZE).prefetch(tf.data.AUTOTUNE)\n",
        "test_dataset = test_dataset.batch(BATCH_SIZE).prefetch(tf.data.AUTOTUNE)"
      ]
    },
    {
      "cell_type": "code",
      "execution_count": null,
      "metadata": {
        "id": "jqkvdcFv41wC",
        "colab": {
          "base_uri": "https://localhost:8080/"
        },
        "outputId": "179b7fd9-bee4-4afd-e64a-4c2b47d8dc2f"
      },
      "outputs": [
        {
          "output_type": "stream",
          "name": "stdout",
          "text": [
            "texts:  [b\"This is without doubt my favourite Le Carre novel and it is transformed to the silver screen with all the love and care one could wish for. I read a review on this site that seems to find the characters loathsome but I believe this misses the point. All Le Carre stories are essentially love stories and this is no exception. It is an accurate reflection of the period in which it is set. Betrayal is the key by everybody for the good of nobody. Pym upbringing is so close to my own that I find it chilling watching. Peter Egan is in his finest role and the late lamented Ray McAnally is unbelievably good. Even the smallest roles played by such as Andy de la Tour, Tim Healy and Jack Ellis are spot on. This cast is a Theatre Impresario's Dream. The Story should not be spoiled by ill informed description but suffice it to say it relates to a young mans slow but inexorable destruction and descent into espionage and treason. All my sympathies lie with Magnus Pym and his sole (non sexual) love for Poppy (R\\xc3\\xbcdiger Weigang-as wonderful as always. His only true friendship but also by definition another in the long line of betrayals. OUTSTANDING! Rent it, buy it. love it.\"\n",
            " b\"Page 3 is most definitely a very enthralling and captivating eye-opener that very cleverly exposes the hypocrite lifestyles of Mumbai's elite. From the fake kisses to the plastered smiles, Page 3 leaves no stone unturned in revealing the shocking lives of the rich and the famous. Backstabbing, gossip, corruption, and scandal lurk in every dark corner in the world of glitz and glam. Humanity and generosity are analogous to an oasis in the desert in this world where Social Darwinism is the prevailing mentality. Everyone is constantly craving for more money, more fame, and a higher reputation, driving them to do the most shameful things imaginable ranging from signing film contracts at a funeral to child molestation. Anything is possible in this metropolis where there is a such a wide gap between the social classes. The audience sees the ugliness of both of these classes through the eyes of the protagonist. She observes the suffocating atmosphere and the mind-boggling frenzy that the socialites live in. Bollywood, business tycoons, politicians, and the underworld are all intertwined in a completely convoluted mess! Kitne Ajeeb Hai is a nice track as is the peppy Kuan Main Doob Jaongi. Terrific film with excellent character development!\"\n",
            " b'A terrorist attempts to steal a top secret biological weapon, and in the process of trying to escape, he is infected when the case containing the deadly agent is compromised. Soldiers are able to retrieve the case, but the terrorist makes his way to a hotel where he attempts to hide out. They eventually make it to where he\\'s hiding, and \"cleanse\" the hotel and its occupants. Unfortunately they dispose of his body by cremation, and if you\\'ve seen Return of the Living Dead, you know what happens next.<br /><br />Zombi 3 has been widely panned by critics and zombie fans alike, as a complete mess of a movie. While that\\'s a fair assessment, it\\'s not without it\\'s high points. For one thing, it has plenty of bloody deaths to keep gore-hounds happy. There\\'s an abundance of zombies that seem to come out from everywhere possible. They\\'re in the water, the rafters of houses, hiding in trees, and for some reason, they like to hide under a bunch of dead brush, only to spring out to attack as the heroes try to escape. There\\'s even a flying zombie head that hides inside a refrigerator. You have to see it to believe it, as that scene alone makes Zombi 3 required viewing IMO. It may have some terrible editing and some very questionable acting, especially from the doctor who has to be one of the worst actors I\\'ve seen, but Zombie 3 is still a very entertaining movie. Sometimes it\\'s nice to sit back and watch a movie that doesn\\'t require anything more than your time and an open mind. Zombi 3 fits that bill, and then some. It\\'s even more enjoyable if you pop open a few beers, and watch it with some like minded friends. I give it an 8/10, just because of sheer enjoyment.']\n",
            "\n",
            "labels:  [1 1 1]\n"
          ]
        }
      ],
      "source": [
        "for example, label in train_dataset.take(1):\n",
        "  print('texts: ', example.numpy()[:3])\n",
        "  print()\n",
        "  print('labels: ', label.numpy()[:3])"
      ]
    },
    {
      "cell_type": "markdown",
      "metadata": {
        "id": "s5eWCo88voPY"
      },
      "source": [
        "### Create the text encoder"
      ]
    },
    {
      "cell_type": "markdown",
      "metadata": {
        "id": "TFevcItw15P_"
      },
      "source": [
        "The raw text loaded by `tfds` needs to be processed before it can be used in a model. The simplest way to process text for training is using the `TextVectorization` layer. This layer has many capabilities, but this tutorial sticks to the default behavior.\n",
        "\n",
        "Create the layer, and pass the dataset's text to the layer's `.adapt` method:"
      ]
    },
    {
      "cell_type": "code",
      "execution_count": null,
      "metadata": {
        "id": "uC25Lu1Yvuqy"
      },
      "outputs": [],
      "source": [
        "VOCAB_SIZE = 1000\n",
        "encoder = tf.keras.layers.TextVectorization(\n",
        "    max_tokens=VOCAB_SIZE)\n",
        "encoder.adapt(train_dataset.map(lambda text, label: text))"
      ]
    },
    {
      "cell_type": "markdown",
      "metadata": {
        "id": "IuQzVBbe3Ldu"
      },
      "source": [
        "The `.adapt` method sets the layer's vocabulary. Here are the first 20 tokens. After the padding and unknown tokens they're sorted by frequency:"
      ]
    },
    {
      "cell_type": "code",
      "execution_count": null,
      "metadata": {
        "id": "tBoyjjWg0Ac9",
        "colab": {
          "base_uri": "https://localhost:8080/"
        },
        "outputId": "3f14987f-93ec-4167-bee3-bed6d9eca47c"
      },
      "outputs": [
        {
          "output_type": "execute_result",
          "data": {
            "text/plain": [
              "array(['', '[UNK]', 'the', 'and', 'a', 'of', 'to', 'is', 'in', 'it', 'i',\n",
              "       'this', 'that', 'br', 'was', 'as', 'for', 'with', 'movie', 'but'],\n",
              "      dtype='<U14')"
            ]
          },
          "metadata": {},
          "execution_count": 9
        }
      ],
      "source": [
        "vocab = np.array(encoder.get_vocabulary())\n",
        "vocab[:20]"
      ]
    },
    {
      "cell_type": "markdown",
      "metadata": {
        "id": "mjId5pua3jHQ"
      },
      "source": [
        "Once the vocabulary is set, the layer can encode text into indices. The tensors of indices are 0-padded to the longest sequence in the batch (unless you set a fixed `output_sequence_length`):"
      ]
    },
    {
      "cell_type": "code",
      "execution_count": null,
      "metadata": {
        "id": "RGc7C9WiwRWs",
        "colab": {
          "base_uri": "https://localhost:8080/"
        },
        "outputId": "8f57cd94-79dd-4b9e-c3ac-ccf04f2e93cc"
      },
      "outputs": [
        {
          "output_type": "execute_result",
          "data": {
            "text/plain": [
              "array([[ 11,   7, 201, ...,   0,   0,   0],\n",
              "       [  1, 442,   7, ...,   0,   0,   0],\n",
              "       [  4,   1, 989, ...,   0,   0,   0]])"
            ]
          },
          "metadata": {},
          "execution_count": 10
        }
      ],
      "source": [
        "encoded_example = encoder(example)[:3].numpy()\n",
        "encoded_example"
      ]
    },
    {
      "cell_type": "markdown",
      "metadata": {
        "id": "F5cjz0bS39IN"
      },
      "source": [
        "With the default settings, the process is not completely reversible. There are three main reasons for that:\n",
        "\n",
        "1. The default value for `preprocessing.TextVectorization`'s `standardize` argument is `\"lower_and_strip_punctuation\"`.\n",
        "2. The limited vocabulary size and lack of character-based fallback results in some unknown tokens."
      ]
    },
    {
      "cell_type": "code",
      "execution_count": null,
      "metadata": {
        "id": "N_tD0QY5wXaK",
        "colab": {
          "base_uri": "https://localhost:8080/"
        },
        "outputId": "642be187-e75f-46cc-a150-890d15069cf2"
      },
      "outputs": [
        {
          "output_type": "stream",
          "name": "stdout",
          "text": [
            "Original:  b\"This is without doubt my favourite Le Carre novel and it is transformed to the silver screen with all the love and care one could wish for. I read a review on this site that seems to find the characters loathsome but I believe this misses the point. All Le Carre stories are essentially love stories and this is no exception. It is an accurate reflection of the period in which it is set. Betrayal is the key by everybody for the good of nobody. Pym upbringing is so close to my own that I find it chilling watching. Peter Egan is in his finest role and the late lamented Ray McAnally is unbelievably good. Even the smallest roles played by such as Andy de la Tour, Tim Healy and Jack Ellis are spot on. This cast is a Theatre Impresario's Dream. The Story should not be spoiled by ill informed description but suffice it to say it relates to a young mans slow but inexorable destruction and descent into espionage and treason. All my sympathies lie with Magnus Pym and his sole (non sexual) love for Poppy (R\\xc3\\xbcdiger Weigang-as wonderful as always. His only true friendship but also by definition another in the long line of betrayals. OUTSTANDING! Rent it, buy it. love it.\"\n",
            "Round-trip:  this is without doubt my [UNK] [UNK] [UNK] novel and it is [UNK] to the [UNK] screen with all the love and care one could wish for i read a review on this [UNK] that seems to find the characters [UNK] but i believe this [UNK] the point all [UNK] [UNK] stories are [UNK] love stories and this is no [UNK] it is an [UNK] [UNK] of the period in which it is set [UNK] is the [UNK] by [UNK] for the good of [UNK] [UNK] [UNK] is so close to my own that i find it [UNK] watching peter [UNK] is in his [UNK] role and the late [UNK] [UNK] [UNK] is [UNK] good even the [UNK] roles played by such as [UNK] de la [UNK] [UNK] [UNK] and jack [UNK] are [UNK] on this cast is a [UNK] [UNK] dream the story should not be [UNK] by ill [UNK] [UNK] but [UNK] it to say it [UNK] to a young [UNK] slow but [UNK] [UNK] and [UNK] into [UNK] and [UNK] all my [UNK] [UNK] with [UNK] [UNK] and his [UNK] [UNK] sexual love for [UNK] [UNK] [UNK] wonderful as always his only true [UNK] but also by [UNK] another in the long line of [UNK] [UNK] rent it buy it love it                                                                                                                                                                                                                                                                                                                                                                                                                                                              \n",
            "\n",
            "Original:  b\"Page 3 is most definitely a very enthralling and captivating eye-opener that very cleverly exposes the hypocrite lifestyles of Mumbai's elite. From the fake kisses to the plastered smiles, Page 3 leaves no stone unturned in revealing the shocking lives of the rich and the famous. Backstabbing, gossip, corruption, and scandal lurk in every dark corner in the world of glitz and glam. Humanity and generosity are analogous to an oasis in the desert in this world where Social Darwinism is the prevailing mentality. Everyone is constantly craving for more money, more fame, and a higher reputation, driving them to do the most shameful things imaginable ranging from signing film contracts at a funeral to child molestation. Anything is possible in this metropolis where there is a such a wide gap between the social classes. The audience sees the ugliness of both of these classes through the eyes of the protagonist. She observes the suffocating atmosphere and the mind-boggling frenzy that the socialites live in. Bollywood, business tycoons, politicians, and the underworld are all intertwined in a completely convoluted mess! Kitne Ajeeb Hai is a nice track as is the peppy Kuan Main Doob Jaongi. Terrific film with excellent character development!\"\n",
            "Round-trip:  [UNK] 3 is most definitely a very [UNK] and [UNK] [UNK] that very [UNK] [UNK] the [UNK] [UNK] of [UNK] [UNK] from the [UNK] [UNK] to the [UNK] [UNK] [UNK] 3 leaves no [UNK] [UNK] in [UNK] the [UNK] lives of the [UNK] and the famous [UNK] [UNK] [UNK] and [UNK] [UNK] in every dark [UNK] in the world of [UNK] and [UNK] [UNK] and [UNK] are [UNK] to an [UNK] in the [UNK] in this world where [UNK] [UNK] is the [UNK] [UNK] everyone is [UNK] [UNK] for more money more [UNK] and a [UNK] [UNK] [UNK] them to do the most [UNK] things [UNK] [UNK] from [UNK] film [UNK] at a [UNK] to child [UNK] anything is possible in this [UNK] where there is a such a [UNK] [UNK] between the [UNK] [UNK] the audience [UNK] the [UNK] of both of these [UNK] through the eyes of the [UNK] she [UNK] the [UNK] atmosphere and the [UNK] [UNK] that the [UNK] live in [UNK] business [UNK] [UNK] and the [UNK] are all [UNK] in a completely [UNK] mess [UNK] [UNK] [UNK] is a nice [UNK] as is the [UNK] [UNK] main [UNK] [UNK] [UNK] film with excellent character development                                                                                                                                                                                                                                                                                                                                                                                                                                                                            \n",
            "\n",
            "Original:  b'A terrorist attempts to steal a top secret biological weapon, and in the process of trying to escape, he is infected when the case containing the deadly agent is compromised. Soldiers are able to retrieve the case, but the terrorist makes his way to a hotel where he attempts to hide out. They eventually make it to where he\\'s hiding, and \"cleanse\" the hotel and its occupants. Unfortunately they dispose of his body by cremation, and if you\\'ve seen Return of the Living Dead, you know what happens next.<br /><br />Zombi 3 has been widely panned by critics and zombie fans alike, as a complete mess of a movie. While that\\'s a fair assessment, it\\'s not without it\\'s high points. For one thing, it has plenty of bloody deaths to keep gore-hounds happy. There\\'s an abundance of zombies that seem to come out from everywhere possible. They\\'re in the water, the rafters of houses, hiding in trees, and for some reason, they like to hide under a bunch of dead brush, only to spring out to attack as the heroes try to escape. There\\'s even a flying zombie head that hides inside a refrigerator. You have to see it to believe it, as that scene alone makes Zombi 3 required viewing IMO. It may have some terrible editing and some very questionable acting, especially from the doctor who has to be one of the worst actors I\\'ve seen, but Zombie 3 is still a very entertaining movie. Sometimes it\\'s nice to sit back and watch a movie that doesn\\'t require anything more than your time and an open mind. Zombi 3 fits that bill, and then some. It\\'s even more enjoyable if you pop open a few beers, and watch it with some like minded friends. I give it an 8/10, just because of sheer enjoyment.'\n",
            "Round-trip:  a [UNK] attempts to [UNK] a top secret [UNK] [UNK] and in the [UNK] of trying to [UNK] he is [UNK] when the case [UNK] the [UNK] [UNK] is [UNK] [UNK] are able to [UNK] the case but the [UNK] makes his way to a [UNK] where he attempts to [UNK] out they eventually make it to where hes [UNK] and [UNK] the [UNK] and its [UNK] unfortunately they [UNK] of his body by [UNK] and if youve seen return of the living dead you know what happens [UNK] br [UNK] 3 has been [UNK] [UNK] by [UNK] and zombie fans [UNK] as a complete mess of a movie while thats a [UNK] [UNK] its not without its high points for one thing it has plenty of [UNK] [UNK] to keep [UNK] happy theres an [UNK] of [UNK] that seem to come out from [UNK] possible theyre in the [UNK] the [UNK] of [UNK] [UNK] in [UNK] and for some reason they like to [UNK] under a bunch of dead [UNK] only to [UNK] out to [UNK] as the [UNK] try to [UNK] theres even a [UNK] zombie head that [UNK] inside a [UNK] you have to see it to believe it as that scene alone makes [UNK] 3 [UNK] viewing [UNK] it may have some terrible editing and some very [UNK] acting especially from the [UNK] who has to be one of the worst actors ive seen but zombie 3 is still a very entertaining movie sometimes its nice to sit back and watch a movie that doesnt [UNK] anything more than your time and an open mind [UNK] 3 [UNK] that bill and then some its even more enjoyable if you [UNK] open a few [UNK] and watch it with some like [UNK] friends i give it an [UNK] just because of [UNK] [UNK]                                                                                                                                                                                                                                                                                                                                                                   \n",
            "\n"
          ]
        }
      ],
      "source": [
        "for n in range(3):\n",
        "  print(\"Original: \", example[n].numpy())\n",
        "  print(\"Round-trip: \", \" \".join(vocab[encoded_example[n]]))\n",
        "  print()"
      ]
    },
    {
      "cell_type": "markdown",
      "metadata": {
        "id": "bjUqGVBxGw-t"
      },
      "source": [
        "### Create the first model\n",
        "\n",
        "Please refer to https://www.tensorflow.org/text/tutorials/text_classification_rnn for detailed explanation + diagram."
      ]
    },
    {
      "cell_type": "code",
      "execution_count": null,
      "metadata": {
        "id": "LwfoBkmRYcP3"
      },
      "outputs": [],
      "source": [
        "model = tf.keras.Sequential([\n",
        "    encoder,\n",
        "    tf.keras.layers.Embedding(\n",
        "        input_dim=len(encoder.get_vocabulary()),\n",
        "        output_dim=64,\n",
        "        # Use masking to handle the variable sequence lengths\n",
        "        mask_zero=True),\n",
        "    tf.keras.layers.Bidirectional(tf.keras.layers.LSTM(64)),\n",
        "    tf.keras.layers.Dense(64, activation='relu'),\n",
        "    tf.keras.layers.Dense(1)\n",
        "])"
      ]
    },
    {
      "cell_type": "markdown",
      "metadata": {
        "id": "QIGmIGkkouUb"
      },
      "source": [
        "Please note that Keras sequential model is used here since all the layers in the model only have single input and produce single output. In case you want to use stateful RNN layer, you might want to build your model with Keras functional API or model subclassing so that you can retrieve and reuse the RNN layer states. Please check [Keras RNN guide](https://www.tensorflow.org/guide/keras/rnn#rnn_state_reuse) for more details."
      ]
    },
    {
      "cell_type": "markdown",
      "metadata": {
        "id": "kF-PsCk1LwjY"
      },
      "source": [
        "The embedding layer [uses masking](https://www.tensorflow.org/guide/keras/masking_and_padding) to handle the varying sequence-lengths. All the layers after the `Embedding` support masking:"
      ]
    },
    {
      "cell_type": "code",
      "execution_count": null,
      "metadata": {
        "id": "87a8-CwfKebw",
        "colab": {
          "base_uri": "https://localhost:8080/"
        },
        "outputId": "798c862e-2ffe-47b1-e9db-3b7fb644f68c"
      },
      "outputs": [
        {
          "output_type": "stream",
          "name": "stdout",
          "text": [
            "[False, True, True, True, True]\n"
          ]
        }
      ],
      "source": [
        "print([layer.supports_masking for layer in model.layers])"
      ]
    },
    {
      "cell_type": "markdown",
      "metadata": {
        "id": "ZlS0iaUIWLpI"
      },
      "source": [
        "To confirm that this works as expected, evaluate a sentence twice. First, alone so there's no padding to mask:"
      ]
    },
    {
      "cell_type": "code",
      "execution_count": null,
      "metadata": {
        "id": "O41gw3KfWHus",
        "colab": {
          "base_uri": "https://localhost:8080/"
        },
        "outputId": "63d1e2ca-3ca9-4abd-a5ef-105088b1cfb4"
      },
      "outputs": [
        {
          "output_type": "stream",
          "name": "stdout",
          "text": [
            "1/1 [==============================] - 4s 4s/step\n",
            "[-0.00645527]\n"
          ]
        }
      ],
      "source": [
        "# predict on a sample text without padding.\n",
        "\n",
        "sample_text = ('The movie was cool. The animation and the graphics '\n",
        "               'were out of this world. I would recommend this movie.')\n",
        "predictions = model.predict(np.array([sample_text]))\n",
        "print(predictions[0])"
      ]
    },
    {
      "cell_type": "markdown",
      "metadata": {
        "id": "K0VQmGnEWcuz"
      },
      "source": [
        "Now, evaluate it again in a batch with a longer sentence. The result should be identical:"
      ]
    },
    {
      "cell_type": "code",
      "execution_count": null,
      "metadata": {
        "id": "UIgpuTeFNDzq",
        "colab": {
          "base_uri": "https://localhost:8080/"
        },
        "outputId": "3465178d-be5f-4800-ff0b-5ad54621b397"
      },
      "outputs": [
        {
          "output_type": "stream",
          "name": "stdout",
          "text": [
            "1/1 [==============================] - 0s 307ms/step\n",
            "[-0.00645528]\n"
          ]
        }
      ],
      "source": [
        "# predict on a sample text with padding\n",
        "\n",
        "padding = \"the \" * 2000\n",
        "predictions = model.predict(np.array([sample_text, padding]))\n",
        "print(predictions[0])"
      ]
    },
    {
      "cell_type": "markdown",
      "metadata": {
        "id": "sRI776ZcH3Tf"
      },
      "source": [
        "Compile the Keras model to configure the training process:"
      ]
    },
    {
      "cell_type": "code",
      "execution_count": null,
      "metadata": {
        "id": "kj2xei41YZjC"
      },
      "outputs": [],
      "source": [
        "model.compile(loss=tf.keras.losses.BinaryCrossentropy(from_logits=True),\n",
        "              optimizer=tf.keras.optimizers.Adam(1e-4),\n",
        "              metrics=['accuracy'])"
      ]
    },
    {
      "cell_type": "markdown",
      "metadata": {
        "id": "zIwH3nto596k"
      },
      "source": [
        "### Train the model"
      ]
    },
    {
      "cell_type": "code",
      "execution_count": null,
      "metadata": {
        "id": "hw86wWS4YgR2",
        "colab": {
          "base_uri": "https://localhost:8080/"
        },
        "outputId": "96a179d2-1bd3-4b94-b7ce-98df8194fc2e"
      },
      "outputs": [
        {
          "output_type": "stream",
          "name": "stdout",
          "text": [
            "Epoch 1/10\n",
            "391/391 [==============================] - 793s 2s/step - loss: 0.6313 - accuracy: 0.5783 - val_loss: 0.4657 - val_accuracy: 0.7599\n",
            "Epoch 2/10\n",
            "391/391 [==============================] - 754s 2s/step - loss: 0.3918 - accuracy: 0.8226 - val_loss: 0.3652 - val_accuracy: 0.8438\n",
            "Epoch 3/10\n",
            "391/391 [==============================] - 742s 2s/step - loss: 0.3348 - accuracy: 0.8515 - val_loss: 0.3419 - val_accuracy: 0.8547\n",
            "Epoch 4/10\n",
            "391/391 [==============================] - 746s 2s/step - loss: 0.3172 - accuracy: 0.8616 - val_loss: 0.3310 - val_accuracy: 0.8542\n",
            "Epoch 5/10\n",
            "391/391 [==============================] - 766s 2s/step - loss: 0.3091 - accuracy: 0.8669 - val_loss: 0.3338 - val_accuracy: 0.8562\n",
            "Epoch 6/10\n",
            "391/391 [==============================] - 752s 2s/step - loss: 0.3069 - accuracy: 0.8669 - val_loss: 0.3306 - val_accuracy: 0.8552\n",
            "Epoch 7/10\n",
            "391/391 [==============================] - 759s 2s/step - loss: 0.3039 - accuracy: 0.8696 - val_loss: 0.3241 - val_accuracy: 0.8547\n",
            "Epoch 8/10\n",
            "391/391 [==============================] - 756s 2s/step - loss: 0.3018 - accuracy: 0.8701 - val_loss: 0.3321 - val_accuracy: 0.8589\n",
            "Epoch 9/10\n",
            "391/391 [==============================] - 758s 2s/step - loss: 0.2993 - accuracy: 0.8710 - val_loss: 0.3286 - val_accuracy: 0.8583\n",
            "Epoch 10/10\n",
            "391/391 [==============================] - 764s 2s/step - loss: 0.2966 - accuracy: 0.8728 - val_loss: 0.3252 - val_accuracy: 0.8609\n"
          ]
        }
      ],
      "source": [
        "history = model.fit(train_dataset, epochs=10,\n",
        "                    validation_data=test_dataset,\n",
        "                    validation_steps=30)"
      ]
    },
    {
      "cell_type": "code",
      "execution_count": null,
      "metadata": {
        "id": "BaNbXi43YgUT",
        "colab": {
          "base_uri": "https://localhost:8080/"
        },
        "outputId": "2da9146b-5b12-4fcd-dde5-b6696b3da82a"
      },
      "outputs": [
        {
          "output_type": "stream",
          "name": "stdout",
          "text": [
            "391/391 [==============================] - 208s 530ms/step - loss: 0.3201 - accuracy: 0.8555\n",
            "Test Loss: 0.32005003094673157\n",
            "Test Accuracy: 0.8555200099945068\n"
          ]
        }
      ],
      "source": [
        "test_loss, test_acc = model.evaluate(test_dataset)\n",
        "\n",
        "print('Test Loss:', test_loss)\n",
        "print('Test Accuracy:', test_acc)"
      ]
    },
    {
      "cell_type": "code",
      "execution_count": null,
      "metadata": {
        "id": "OZmwt_mzaQJk",
        "colab": {
          "base_uri": "https://localhost:8080/",
          "height": 561
        },
        "outputId": "8494b64f-fef2-4d72-ad25-6feb8703bc8d"
      },
      "outputs": [
        {
          "output_type": "execute_result",
          "data": {
            "text/plain": [
              "(0.0, 0.6480558574199676)"
            ]
          },
          "metadata": {},
          "execution_count": 36
        },
        {
          "output_type": "display_data",
          "data": {
            "text/plain": [
              "<Figure size 1600x800 with 2 Axes>"
            ],
            "image/png": "[encoded data removed]"
          },
          "metadata": {}
        }
      ],
      "source": [
        "plt.figure(figsize=(16, 8))\n",
        "plt.subplot(1, 2, 1)\n",
        "plot_graphs(history, 'accuracy')\n",
        "plt.ylim(None, 1)\n",
        "plt.subplot(1, 2, 2)\n",
        "plot_graphs(history, 'loss')\n",
        "plt.ylim(0, None)"
      ]
    },
    {
      "cell_type": "markdown",
      "metadata": {
        "id": "DwSE_386uhxD"
      },
      "source": [
        "Run a prediction on a new sentence:\n",
        "\n",
        "If the prediction is >= 0.0, it is positive else it is negative."
      ]
    },
    {
      "cell_type": "code",
      "execution_count": null,
      "metadata": {
        "id": "ZXgfQSgRW6zU",
        "colab": {
          "base_uri": "https://localhost:8080/"
        },
        "outputId": "4bd7c740-caa9-4e5d-b975-9345255cc908"
      },
      "outputs": [
        {
          "output_type": "stream",
          "name": "stdout",
          "text": [
            "1/1 [==============================] - 4s 4s/step\n"
          ]
        }
      ],
      "source": [
        "sample_text = ('The movie was cool. The animation and the graphics '\n",
        "               'were out of this world. I would recommend this movie.')\n",
        "predictions = model.predict(np.array([sample_text]))"
      ]
    },
    {
      "cell_type": "markdown",
      "metadata": {
        "id": "7g1evcaRpTKm"
      },
      "source": [
        "### Second model: stacking two LSTM layers\n",
        "\n",
        "Please refer to https://www.tensorflow.org/text/tutorials/text_classification_rnn for additional explanation + diagram."
      ]
    },
    {
      "cell_type": "markdown",
      "metadata": {
        "id": "wbSClCrG1z8l"
      },
      "source": [
        "The interesting thing about using an `RNN` with `return_sequences=True` is that the output still has 3-axes, like the input, so it can be passed to another RNN layer, like this:"
      ]
    },
    {
      "cell_type": "code",
      "execution_count": null,
      "metadata": {
        "id": "jo1jjO3vn0jo"
      },
      "outputs": [],
      "source": [
        "model = tf.keras.Sequential([\n",
        "    encoder,\n",
        "    tf.keras.layers.Embedding(len(encoder.get_vocabulary()), 64, mask_zero=True),\n",
        "    tf.keras.layers.Bidirectional(tf.keras.layers.LSTM(64,  return_sequences=True)),\n",
        "    tf.keras.layers.Bidirectional(tf.keras.layers.LSTM(32)),\n",
        "    tf.keras.layers.Dense(64, activation='relu'),\n",
        "    tf.keras.layers.Dropout(0.5),\n",
        "    tf.keras.layers.Dense(1)\n",
        "])"
      ]
    },
    {
      "cell_type": "code",
      "execution_count": null,
      "metadata": {
        "id": "hEPV5jVGp-is"
      },
      "outputs": [],
      "source": [
        "model.compile(loss=tf.keras.losses.BinaryCrossentropy(from_logits=True),\n",
        "              optimizer=tf.keras.optimizers.Adam(1e-4),\n",
        "              metrics=['accuracy'])"
      ]
    },
    {
      "cell_type": "code",
      "execution_count": null,
      "metadata": {
        "colab": {
          "base_uri": "https://localhost:8080/"
        },
        "outputId": "ff9d42ac-d4e3-4be7-e6b9-7f8e2e396a6d",
        "id": "QHayIrG2RjBH"
      },
      "outputs": [
        {
          "output_type": "stream",
          "name": "stdout",
          "text": [
            "Epoch 1/10\n",
            "391/391 [==============================] - 76s 159ms/step - loss: 0.5997 - accuracy: 0.6180 - val_loss: 0.4044 - val_accuracy: 0.8203\n",
            "Epoch 2/10\n",
            "391/391 [==============================] - 58s 146ms/step - loss: 0.3749 - accuracy: 0.8389 - val_loss: 0.3454 - val_accuracy: 0.8510\n",
            "Epoch 3/10\n",
            "391/391 [==============================] - 58s 148ms/step - loss: 0.3384 - accuracy: 0.8558 - val_loss: 0.3362 - val_accuracy: 0.8573\n",
            "Epoch 4/10\n",
            "391/391 [==============================] - 59s 149ms/step - loss: 0.3213 - accuracy: 0.8647 - val_loss: 0.3226 - val_accuracy: 0.8552\n",
            "Epoch 5/10\n",
            "391/391 [==============================] - 58s 148ms/step - loss: 0.3099 - accuracy: 0.8688 - val_loss: 0.3300 - val_accuracy: 0.8401\n",
            "Epoch 6/10\n",
            "391/391 [==============================] - 58s 147ms/step - loss: 0.3041 - accuracy: 0.8716 - val_loss: 0.3507 - val_accuracy: 0.8203\n",
            "Epoch 7/10\n",
            "391/391 [==============================] - 58s 147ms/step - loss: 0.3023 - accuracy: 0.8709 - val_loss: 0.3249 - val_accuracy: 0.8505\n",
            "Epoch 8/10\n",
            "391/391 [==============================] - 59s 148ms/step - loss: 0.3012 - accuracy: 0.8713 - val_loss: 0.3372 - val_accuracy: 0.8536\n",
            "Epoch 9/10\n",
            "391/391 [==============================] - 59s 149ms/step - loss: 0.3008 - accuracy: 0.8720 - val_loss: 0.3232 - val_accuracy: 0.8562\n",
            "Epoch 10/10\n",
            "391/391 [==============================] - 58s 147ms/step - loss: 0.2939 - accuracy: 0.8748 - val_loss: 0.3298 - val_accuracy: 0.8464\n"
          ]
        }
      ],
      "source": [
        "history = model.fit(train_dataset, epochs=10,\n",
        "                    validation_data=test_dataset,\n",
        "                    validation_steps=30)"
      ]
    },
    {
      "cell_type": "code",
      "execution_count": null,
      "metadata": {
        "id": "_LdwilM1qPM3",
        "colab": {
          "base_uri": "https://localhost:8080/"
        },
        "outputId": "3d60e99f-036f-47af-c949-603b0302822e"
      },
      "outputs": [
        {
          "output_type": "stream",
          "name": "stdout",
          "text": [
            "391/391 [==============================] - 32s 83ms/step - loss: 0.3246 - accuracy: 0.8506\n",
            "Test Loss: 0.32457563281059265\n",
            "Test Accuracy: 0.850600004196167\n"
          ]
        }
      ],
      "source": [
        "test_loss, test_acc = model.evaluate(test_dataset)\n",
        "\n",
        "print('Test Loss:', test_loss)\n",
        "print('Test Accuracy:', test_acc)"
      ]
    },
    {
      "cell_type": "code",
      "execution_count": null,
      "metadata": {
        "id": "ykUKnAoqbycW",
        "colab": {
          "base_uri": "https://localhost:8080/"
        },
        "outputId": "a214075b-a35e-469b-cdda-f67880fdd1a9"
      },
      "outputs": [
        {
          "output_type": "stream",
          "name": "stdout",
          "text": [
            "[[-2.1777625]]\n"
          ]
        }
      ],
      "source": [
        "# predict on a sample text without padding.\n",
        "\n",
        "sample_text = ('The movie was not good. The animation and the graphics '\n",
        "               'were terrible. I would not recommend this movie.')\n",
        "predictions = model.predict(np.array([sample_text]))\n",
        "print(predictions)"
      ]
    },
    {
      "cell_type": "code",
      "execution_count": null,
      "metadata": {
        "id": "_YYub0EDtwCu",
        "colab": {
          "base_uri": "https://localhost:8080/",
          "height": 388
        },
        "outputId": "999d631f-0d34-4a48-ee16-eb422abb00a7"
      },
      "outputs": [
        {
          "output_type": "display_data",
          "data": {
            "text/plain": [
              "<Figure size 1152x432 with 2 Axes>"
            ],
            "image/png": "[encoded data removed]"
          },
          "metadata": {
            "needs_background": "light"
          }
        }
      ],
      "source": [
        "plt.figure(figsize=(16, 6))\n",
        "plt.subplot(1, 2, 1)\n",
        "plot_graphs(history, 'accuracy')\n",
        "plt.subplot(1, 2, 2)\n",
        "plot_graphs(history, 'loss')"
      ]
    },
    {
      "cell_type": "markdown",
      "source": [
        "### TODO 2: Improve the solution for IMDB sentiment analysis\n",
        "Write code to produce another solution to the movie review problem that outperforms the two solutions provided above, i.e, has a higher test accuracy.\n",
        "\n",
        "You can use a (combination of) different architecture, dropout and/or other regularization strategies, hyperparameter optimizations, masking, pretrained embeddings, or any other acceptable \"trick\" in the deep learning world."
      ],
      "metadata": {
        "id": "4aDpt2MmX3fO"
      }
    },
    {
      "cell_type": "code",
      "source": [
        "import numpy as np\n",
        "import tensorflow_datasets as tfds\n",
        "import tensorflow as tf\n",
        "import matplotlib.pyplot as plt\n",
        "from tensorflow.keras.optimizers import RMSprop\n",
        "\n",
        "tfds.disable_progress_bar()\n",
        "\n",
        "def plot_graphs(history, metric):\n",
        "  plt.plot(history.history[metric])\n",
        "  plt.plot(history.history['val_'+metric], '')\n",
        "  plt.xlabel(\"Epochs\")\n",
        "  plt.ylabel(metric)\n",
        "  plt.legend([metric, 'val_'+metric])\n",
        "\n",
        "# Load and preprocess the dataset\n",
        "dataset, info = tfds.load('imdb_reviews', with_info=True, as_supervised=True)\n",
        "train_dataset, test_dataset = dataset['train'], dataset['test']\n",
        "\n",
        "BUFFER_SIZE = 10000\n",
        "BATCH_SIZE = 64\n",
        "\n",
        "train_dataset = train_dataset.shuffle(BUFFER_SIZE).batch(BATCH_SIZE).prefetch(tf.data.AUTOTUNE)\n",
        "test_dataset = test_dataset.batch(BATCH_SIZE).prefetch(tf.data.AUTOTUNE)\n",
        "\n",
        "VOCAB_SIZE = 10000\n",
        "encoder = tf.keras.layers.TextVectorization(max_tokens=VOCAB_SIZE, output_sequence_length=250)\n",
        "encoder.adapt(train_dataset.map(lambda text, label: text))\n",
        "\n",
        "# Define your model architecture\n",
        "model = tf.keras.Sequential([\n",
        "    encoder,\n",
        "    tf.keras.layers.Embedding(input_dim=len(encoder.get_vocabulary()), output_dim=128),\n",
        "    tf.keras.layers.Masking(mask_value=0.0),  # Add Masking layer to manually apply mask\n",
        "    tf.keras.layers.Conv1D(128, 5, activation='relu'),\n",
        "    tf.keras.layers.MaxPooling1D(pool_size=4),\n",
        "    tf.keras.layers.Conv1D(128, 5, activation='relu'),\n",
        "    tf.keras.layers.MaxPooling1D(pool_size=4),\n",
        "    tf.keras.layers.Bidirectional(tf.keras.layers.LSTM(64)),\n",
        "    tf.keras.layers.Dense(64, activation='relu'),\n",
        "    tf.keras.layers.Dropout(0.5),\n",
        "    tf.keras.layers.Dense(32, activation='relu'),\n",
        "    tf.keras.layers.Dropout(0.5),\n",
        "    tf.keras.layers.Dense(1)\n",
        "])\n",
        "\n",
        "model.summary()\n",
        "\n",
        "# Compile and train the model\n",
        "optimizer = RMSprop(learning_rate=0.001)\n",
        "model.compile(optimizer=optimizer, loss='binary_crossentropy', metrics=['accuracy'])\n",
        "\n",
        "history = model.fit(train_dataset, epochs=5,\n",
        "                    validation_data=test_dataset,\n",
        "                    validation_steps=30)\n",
        "\n",
        "# Evaluate the model\n",
        "test_loss, test_acc = model.evaluate(test_dataset)\n",
        "\n",
        "print('Test Loss:', test_loss)\n",
        "print('Test Accuracy:', test_acc)\n",
        "\n",
        "# Plot accuracy and loss graphs\n",
        "plt.figure(figsize=(16, 8))\n",
        "plt.subplot(1, 2, 1)\n",
        "plot_graphs(history, 'accuracy')\n",
        "plt.ylim(None, 1)\n",
        "plt.subplot(1, 2, 2)\n",
        "plot_graphs(history, 'loss')\n",
        "plt.ylim(0, None)\n",
        "\n",
        "# Predict on a sample text\n",
        "sample_text = ('The movie was great. The acting and the story were amazing. '\n",
        "               'I highly recommend this movie.')\n",
        "predictions = model.predict(np.array([sample_text]))\n",
        "print(predictions)\n"
      ],
      "metadata": {
        "colab": {
          "base_uri": "https://localhost:8080/",
          "height": 1000
        },
        "id": "Q9_bBwVtlYCh",
        "outputId": "43f0ccf7-3b00-4b2d-f160-3458a7117014"
      },
      "execution_count": null,
      "outputs": [
        {
          "output_type": "stream",
          "name": "stdout",
          "text": [
            "Model: \"sequential_11\"\n",
            "_________________________________________________________________\n",
            " Layer (type)                Output Shape              Param #   \n",
            "=================================================================\n",
            " text_vectorization_11 (Text  (None, 250)              0         \n",
            " Vectorization)                                                  \n",
            "                                                                 \n",
            " embedding_11 (Embedding)    (None, 250, 128)          1280000   \n",
            "                                                                 \n",
            " masking_4 (Masking)         (None, 250, 128)          0         \n",
            "                                                                 \n",
            " conv1d_15 (Conv1D)          (None, 246, 128)          82048     \n",
            "                                                                 \n",
            " max_pooling1d_8 (MaxPooling  (None, 61, 128)          0         \n",
            " 1D)                                                             \n",
            "                                                                 \n",
            " conv1d_16 (Conv1D)          (None, 57, 128)           82048     \n",
            "                                                                 \n",
            " max_pooling1d_9 (MaxPooling  (None, 14, 128)          0         \n",
            " 1D)                                                             \n",
            "                                                                 \n",
            " bidirectional_4 (Bidirectio  (None, 128)              98816     \n",
            " nal)                                                            \n",
            "                                                                 \n",
            " dense_26 (Dense)            (None, 64)                8256      \n",
            "                                                                 \n",
            " dropout_20 (Dropout)        (None, 64)                0         \n",
            "                                                                 \n",
            " dense_27 (Dense)            (None, 32)                2080      \n",
            "                                                                 \n",
            " dropout_21 (Dropout)        (None, 32)                0         \n",
            "                                                                 \n",
            " dense_28 (Dense)            (None, 1)                 33        \n",
            "                                                                 \n",
            "=================================================================\n",
            "Total params: 1,553,281\n",
            "Trainable params: 1,553,281\n",
            "Non-trainable params: 0\n",
            "_________________________________________________________________\n",
            "Epoch 1/5\n",
            "391/391 [==============================] - 40s 90ms/step - loss: 0.7787 - accuracy: 0.6348 - val_loss: 0.4431 - val_accuracy: 0.8057\n",
            "Epoch 2/5\n",
            "391/391 [==============================] - 17s 42ms/step - loss: 0.6671 - accuracy: 0.8038 - val_loss: 0.6432 - val_accuracy: 0.8323\n",
            "Epoch 3/5\n",
            "391/391 [==============================] - 11s 28ms/step - loss: 0.6181 - accuracy: 0.8413 - val_loss: 0.6365 - val_accuracy: 0.8698\n",
            "Epoch 4/5\n",
            "391/391 [==============================] - 10s 25ms/step - loss: 0.5830 - accuracy: 0.8706 - val_loss: 0.5945 - val_accuracy: 0.8573\n",
            "Epoch 5/5\n",
            "391/391 [==============================] - 9s 23ms/step - loss: 0.5830 - accuracy: 0.8931 - val_loss: 0.7377 - val_accuracy: 0.8760\n",
            "391/391 [==============================] - 5s 12ms/step - loss: 0.7539 - accuracy: 0.8728\n",
            "Test Loss: 0.7538689970970154\n",
            "Test Accuracy: 0.8727999925613403\n",
            "1/1 [==============================] - 1s 737ms/step\n",
            "[[2.6897194]]\n"
          ]
        },
        {
          "output_type": "display_data",
          "data": {
            "text/plain": [
              "<Figure size 1600x800 with 2 Axes>"
            ],
            "image/png": "[encoded data removed]"
          },
          "metadata": {}
        }
      ]
    },
    {
      "cell_type": "markdown",
      "metadata": {
        "id": "mNl8NmzWWpDY"
      },
      "source": [
        "### Summary table\n",
        "(Example, manually generated)\n",
        "\n",
        "You can use the table below to show a summary of the experimental results. **Replace the Test Accuracy values and other contents with your own!**\n",
        "\n",
        "| Method | Test Accuracy | Remarks |\n",
        "| --- | --- | --- |\n",
        "| First model | 0.863 | Baseline |\n",
        "| Second model (LSTM) | 0.852 | Slightly worse than baseline |\n",
        "| *Improved* model / variation of your choice | 0.872 | Best overall but still have the sign of overfitting |\n"
      ]
    },
    {
      "cell_type": "markdown",
      "source": [
        "**To improve the accuracy of the model, we used these layer in our model architecture.**\n",
        "1. TextVectorization layer for converting raw text into tokenized sequences and adapting to the training data\n",
        "2. Embedding layer for mapping tokenized sequences to dense vectors of fixed size\n",
        "3. Masking layer for masking out padding tokens to prevent them from affecting model predictions\n",
        "4. Conv1D layers for applying 1D convolutional operations to learn local features from the text\n",
        "5. MaxPooling1D layers for down-sampling the features\n",
        "6. Bidirectional LSTM layer for capturing bidirectional temporal dependencies in the text\n",
        "7. Dense layers with ReLU activation for applying fully connected operations\n",
        "8. Dropout layers for regularization to prevent overfitting\n",
        "9. Final Dense layer with no activation for binary classification (positive/negative sentiment)\n",
        "\n",
        "For compiling the model, We used RMSprop optimizer with a learning rate of 0.001. The model is trained for 5 epochs.\n",
        "\n",
        "The highest overall test accuracy of 0.872 among the three models evaluated but still presence of slight overfitting."
      ],
      "metadata": {
        "id": "9iQAxISdTPLP"
      }
    },
    {
      "cell_type": "markdown",
      "source": [
        "## Part 3: NLP using Transformers\n",
        "\n",
        "In Part 3 we will look at the Transformer architecture and how it can be used in a specific NLP task, machine translation (from English to Spanish).\n",
        "\n",
        "Please refer to Chapter 11 of [our textbook](https://learning.oreilly.com/library/view/deep-learning-with/9781617296864) for additional information.\n"
      ],
      "metadata": {
        "id": "fC1B01BCE7OJ"
      }
    },
    {
      "cell_type": "markdown",
      "metadata": {
        "id": "ITYmXB88E7Oa"
      },
      "source": [
        "Useful sources and references for Part 3:\n",
        "\n",
        "- https://colab.research.google.com/github/fchollet/deep-learning-with-python-notebooks/blob/master/chapter11_part03_transformer.ipynb\n",
        "- https://colab.research.google.com/github/fchollet/deep-learning-with-python-notebooks/blob/master/chapter11_part04_sequence-to-sequence-learning.ipynb\n"
      ]
    },
    {
      "cell_type": "markdown",
      "metadata": {
        "id": "6IwBooqWFQGb"
      },
      "source": [
        "### Setup"
      ]
    },
    {
      "cell_type": "code",
      "execution_count": null,
      "metadata": {
        "id": "-uEVqAmHFQGb",
        "colab": {
          "base_uri": "https://localhost:8080/"
        },
        "outputId": "715044d3-4b32-43e1-cf6d-c906b58cbd63"
      },
      "outputs": [
        {
          "output_type": "stream",
          "name": "stdout",
          "text": [
            "--2022-07-13 16:49:29--  http://storage.googleapis.com/download.tensorflow.org/data/spa-eng.zip\n",
            "Resolving storage.googleapis.com (storage.googleapis.com)... 173.194.214.128, 173.194.215.128, 173.194.216.128, ...\n",
            "Connecting to storage.googleapis.com (storage.googleapis.com)|173.194.214.128|:80... connected.\n",
            "HTTP request sent, awaiting response... 200 OK\n",
            "Length: 2638744 (2.5M) [application/zip]\n",
            "Saving to: ‘spa-eng.zip’\n",
            "\n",
            "\rspa-eng.zip           0%[                    ]       0  --.-KB/s               \rspa-eng.zip         100%[===================>]   2.52M  --.-KB/s    in 0.01s   \n",
            "\n",
            "2022-07-13 16:49:29 (256 MB/s) - ‘spa-eng.zip’ saved [2638744/2638744]\n",
            "\n"
          ]
        }
      ],
      "source": [
        "!wget http://storage.googleapis.com/download.tensorflow.org/data/spa-eng.zip\n",
        "!unzip -q spa-eng.zip"
      ]
    },
    {
      "cell_type": "code",
      "execution_count": null,
      "metadata": {
        "id": "eOLIZ9ZtFQGc"
      },
      "outputs": [],
      "source": [
        "text_file = \"spa-eng/spa.txt\"\n",
        "with open(text_file) as f:\n",
        "    lines = f.read().split(\"\\n\")[:-1]\n",
        "text_pairs = []\n",
        "for line in lines:\n",
        "    english, spanish = line.split(\"\\t\")\n",
        "    spanish = \"[start] \" + spanish + \" [end]\"\n",
        "    text_pairs.append((english, spanish))"
      ]
    },
    {
      "cell_type": "code",
      "execution_count": null,
      "metadata": {
        "id": "LvcrsLQhFQGc",
        "colab": {
          "base_uri": "https://localhost:8080/"
        },
        "outputId": "57614083-2d0a-4105-e98e-6d5b199c7edf"
      },
      "outputs": [
        {
          "output_type": "stream",
          "name": "stdout",
          "text": [
            "('He looks a bit tired.', '[start] Parece un poco cansado. [end]')\n"
          ]
        }
      ],
      "source": [
        "import random\n",
        "print(random.choice(text_pairs))"
      ]
    },
    {
      "cell_type": "code",
      "execution_count": null,
      "metadata": {
        "id": "sgx4dI1OFQGc"
      },
      "outputs": [],
      "source": [
        "import random\n",
        "random.shuffle(text_pairs)\n",
        "num_val_samples = int(0.15 * len(text_pairs))\n",
        "num_train_samples = len(text_pairs) - 2 * num_val_samples\n",
        "train_pairs = text_pairs[:num_train_samples]\n",
        "val_pairs = text_pairs[num_train_samples:num_train_samples + num_val_samples]\n",
        "test_pairs = text_pairs[num_train_samples + num_val_samples:]"
      ]
    },
    {
      "cell_type": "markdown",
      "metadata": {
        "id": "p3a4eNBeFQGd"
      },
      "source": [
        "**Vectorizing the English and Spanish text pairs**"
      ]
    },
    {
      "cell_type": "code",
      "execution_count": null,
      "metadata": {
        "id": "5eQ6EdPZFQGd"
      },
      "outputs": [],
      "source": [
        "import tensorflow as tf\n",
        "import string\n",
        "import re\n",
        "\n",
        "from tensorflow import keras\n",
        "from tensorflow.keras import layers\n",
        "\n",
        "strip_chars = string.punctuation + \"¿\"\n",
        "strip_chars = strip_chars.replace(\"[\", \"\")\n",
        "strip_chars = strip_chars.replace(\"]\", \"\")\n",
        "\n",
        "def custom_standardization(input_string):\n",
        "    lowercase = tf.strings.lower(input_string)\n",
        "    return tf.strings.regex_replace(\n",
        "        lowercase, f\"[{re.escape(strip_chars)}]\", \"\")\n",
        "\n",
        "vocab_size = 15000\n",
        "sequence_length = 20\n",
        "\n",
        "source_vectorization = layers.TextVectorization(\n",
        "    max_tokens=vocab_size,\n",
        "    output_mode=\"int\",\n",
        "    output_sequence_length=sequence_length,\n",
        ")\n",
        "target_vectorization = layers.TextVectorization(\n",
        "    max_tokens=vocab_size,\n",
        "    output_mode=\"int\",\n",
        "    output_sequence_length=sequence_length + 1,\n",
        "    standardize=custom_standardization,\n",
        ")\n",
        "train_english_texts = [pair[0] for pair in train_pairs]\n",
        "train_spanish_texts = [pair[1] for pair in train_pairs]\n",
        "source_vectorization.adapt(train_english_texts)\n",
        "target_vectorization.adapt(train_spanish_texts)"
      ]
    },
    {
      "cell_type": "markdown",
      "metadata": {
        "id": "I8FSpt8VFQGe"
      },
      "source": [
        "**Preparing datasets for the translation task**"
      ]
    },
    {
      "cell_type": "code",
      "execution_count": null,
      "metadata": {
        "id": "LUs8N_zjFQGe"
      },
      "outputs": [],
      "source": [
        "batch_size = 64\n",
        "\n",
        "def format_dataset(eng, spa):\n",
        "    eng = source_vectorization(eng)\n",
        "    spa = target_vectorization(spa)\n",
        "    return ({\n",
        "        \"english\": eng,\n",
        "        \"spanish\": spa[:, :-1],\n",
        "    }, spa[:, 1:])\n",
        "\n",
        "def make_dataset(pairs):\n",
        "    eng_texts, spa_texts = zip(*pairs)\n",
        "    eng_texts = list(eng_texts)\n",
        "    spa_texts = list(spa_texts)\n",
        "    dataset = tf.data.Dataset.from_tensor_slices((eng_texts, spa_texts))\n",
        "    dataset = dataset.batch(batch_size)\n",
        "    dataset = dataset.map(format_dataset, num_parallel_calls=4)\n",
        "    return dataset.shuffle(2048).prefetch(16).cache()\n",
        "\n",
        "train_ds = make_dataset(train_pairs)\n",
        "val_ds = make_dataset(val_pairs)"
      ]
    },
    {
      "cell_type": "code",
      "execution_count": null,
      "metadata": {
        "id": "caWA_b2BFQGe",
        "colab": {
          "base_uri": "https://localhost:8080/"
        },
        "outputId": "bb234f7e-b353-49be-8925-eb70bc0f54c9"
      },
      "outputs": [
        {
          "output_type": "stream",
          "name": "stdout",
          "text": [
            "inputs['english'].shape: (64, 20)\n",
            "inputs['spanish'].shape: (64, 20)\n",
            "targets.shape: (64, 20)\n"
          ]
        }
      ],
      "source": [
        "for inputs, targets in train_ds.take(1):\n",
        "    print(f\"inputs['english'].shape: {inputs['english'].shape}\")\n",
        "    print(f\"inputs['spanish'].shape: {inputs['spanish'].shape}\")\n",
        "    print(f\"targets.shape: {targets.shape}\")"
      ]
    },
    {
      "cell_type": "markdown",
      "metadata": {
        "id": "BL1QeLMLEznr"
      },
      "source": [
        "### The Transformer encoder"
      ]
    },
    {
      "cell_type": "code",
      "execution_count": null,
      "metadata": {
        "id": "CTQRyZTKEznt"
      },
      "outputs": [],
      "source": [
        "import tensorflow as tf\n",
        "from tensorflow import keras\n",
        "from tensorflow.keras import layers\n",
        "\n",
        "class TransformerEncoder(layers.Layer):\n",
        "    def __init__(self, embed_dim, dense_dim, num_heads, **kwargs):\n",
        "        super().__init__(**kwargs)\n",
        "        self.embed_dim = embed_dim\n",
        "        self.dense_dim = dense_dim\n",
        "        self.num_heads = num_heads\n",
        "        self.attention = layers.MultiHeadAttention(\n",
        "            num_heads=num_heads, key_dim=embed_dim)\n",
        "        self.dense_proj = keras.Sequential(\n",
        "            [layers.Dense(dense_dim, activation=\"relu\"),\n",
        "             layers.Dense(embed_dim),]\n",
        "        )\n",
        "        self.layernorm_1 = layers.LayerNormalization()\n",
        "        self.layernorm_2 = layers.LayerNormalization()\n",
        "\n",
        "    def call(self, inputs, mask=None):\n",
        "        if mask is not None:\n",
        "            mask = mask[:, tf.newaxis, :]\n",
        "        attention_output = self.attention(\n",
        "            inputs, inputs, attention_mask=mask)\n",
        "        proj_input = self.layernorm_1(inputs + attention_output)\n",
        "        proj_output = self.dense_proj(proj_input)\n",
        "        return self.layernorm_2(proj_input + proj_output)\n",
        "\n",
        "    def get_config(self):\n",
        "        config = super().get_config()\n",
        "        config.update({\n",
        "            \"embed_dim\": self.embed_dim,\n",
        "            \"num_heads\": self.num_heads,\n",
        "            \"dense_dim\": self.dense_dim,\n",
        "        })\n",
        "        return config"
      ]
    },
    {
      "cell_type": "markdown",
      "metadata": {
        "id": "xIPjMfSSFQGg"
      },
      "source": [
        "### The Transformer decoder"
      ]
    },
    {
      "cell_type": "code",
      "execution_count": null,
      "metadata": {
        "id": "UvZV_l5QFQGg"
      },
      "outputs": [],
      "source": [
        "class TransformerDecoder(layers.Layer):\n",
        "    def __init__(self, embed_dim, dense_dim, num_heads, **kwargs):\n",
        "        super().__init__(**kwargs)\n",
        "        self.embed_dim = embed_dim\n",
        "        self.dense_dim = dense_dim\n",
        "        self.num_heads = num_heads\n",
        "        self.attention_1 = layers.MultiHeadAttention(\n",
        "            num_heads=num_heads, key_dim=embed_dim)\n",
        "        self.attention_2 = layers.MultiHeadAttention(\n",
        "            num_heads=num_heads, key_dim=embed_dim)\n",
        "        self.dense_proj = keras.Sequential(\n",
        "            [layers.Dense(dense_dim, activation=\"relu\"),\n",
        "             layers.Dense(embed_dim),]\n",
        "        )\n",
        "        self.layernorm_1 = layers.LayerNormalization()\n",
        "        self.layernorm_2 = layers.LayerNormalization()\n",
        "        self.layernorm_3 = layers.LayerNormalization()\n",
        "        self.supports_masking = True\n",
        "\n",
        "    def get_config(self):\n",
        "        config = super().get_config()\n",
        "        config.update({\n",
        "            \"embed_dim\": self.embed_dim,\n",
        "            \"num_heads\": self.num_heads,\n",
        "            \"dense_dim\": self.dense_dim,\n",
        "        })\n",
        "        return config\n",
        "\n",
        "    def get_causal_attention_mask(self, inputs):\n",
        "        input_shape = tf.shape(inputs)\n",
        "        batch_size, sequence_length = input_shape[0], input_shape[1]\n",
        "        i = tf.range(sequence_length)[:, tf.newaxis]\n",
        "        j = tf.range(sequence_length)\n",
        "        mask = tf.cast(i >= j, dtype=\"int32\")\n",
        "        mask = tf.reshape(mask, (1, input_shape[1], input_shape[1]))\n",
        "        mult = tf.concat(\n",
        "            [tf.expand_dims(batch_size, -1),\n",
        "             tf.constant([1, 1], dtype=tf.int32)], axis=0)\n",
        "        return tf.tile(mask, mult)\n",
        "\n",
        "    def call(self, inputs, encoder_outputs, mask=None):\n",
        "        causal_mask = self.get_causal_attention_mask(inputs)\n",
        "        if mask is not None:\n",
        "            padding_mask = tf.cast(\n",
        "                mask[:, tf.newaxis, :], dtype=\"int32\")\n",
        "            padding_mask = tf.minimum(padding_mask, causal_mask)\n",
        "        attention_output_1 = self.attention_1(\n",
        "            query=inputs,\n",
        "            value=inputs,\n",
        "            key=inputs,\n",
        "            attention_mask=causal_mask)\n",
        "        attention_output_1 = self.layernorm_1(inputs + attention_output_1)\n",
        "        attention_output_2 = self.attention_2(\n",
        "            query=attention_output_1,\n",
        "            value=encoder_outputs,\n",
        "            key=encoder_outputs,\n",
        "            attention_mask=padding_mask,\n",
        "        )\n",
        "        attention_output_2 = self.layernorm_2(\n",
        "            attention_output_1 + attention_output_2)\n",
        "        proj_output = self.dense_proj(attention_output_2)\n",
        "        return self.layernorm_3(attention_output_2 + proj_output)"
      ]
    },
    {
      "cell_type": "markdown",
      "metadata": {
        "id": "YnebEA1XFQGg"
      },
      "source": [
        "### Putting it all together: A Transformer for machine translation"
      ]
    },
    {
      "cell_type": "markdown",
      "metadata": {
        "id": "PkPhTo11FQGg"
      },
      "source": [
        "**PositionalEmbedding layer**"
      ]
    },
    {
      "cell_type": "code",
      "execution_count": null,
      "metadata": {
        "id": "farM4iYXFQGg"
      },
      "outputs": [],
      "source": [
        "class PositionalEmbedding(layers.Layer):\n",
        "    def __init__(self, sequence_length, input_dim, output_dim, **kwargs):\n",
        "        super().__init__(**kwargs)\n",
        "        self.token_embeddings = layers.Embedding(\n",
        "            input_dim=input_dim, output_dim=output_dim)\n",
        "        self.position_embeddings = layers.Embedding(\n",
        "            input_dim=sequence_length, output_dim=output_dim)\n",
        "        self.sequence_length = sequence_length\n",
        "        self.input_dim = input_dim\n",
        "        self.output_dim = output_dim\n",
        "\n",
        "    def call(self, inputs):\n",
        "        length = tf.shape(inputs)[-1]\n",
        "        positions = tf.range(start=0, limit=length, delta=1)\n",
        "        embedded_tokens = self.token_embeddings(inputs)\n",
        "        embedded_positions = self.position_embeddings(positions)\n",
        "        return embedded_tokens + embedded_positions\n",
        "\n",
        "    def compute_mask(self, inputs, mask=None):\n",
        "        return tf.math.not_equal(inputs, 0)\n",
        "\n",
        "    def get_config(self):\n",
        "        config = super(PositionalEmbedding, self).get_config()\n",
        "        config.update({\n",
        "            \"output_dim\": self.output_dim,\n",
        "            \"sequence_length\": self.sequence_length,\n",
        "            \"input_dim\": self.input_dim,\n",
        "        })\n",
        "        return config"
      ]
    },
    {
      "cell_type": "markdown",
      "metadata": {
        "id": "yvRcD-XAFQGh"
      },
      "source": [
        "**End-to-end Transformer**"
      ]
    },
    {
      "cell_type": "code",
      "execution_count": null,
      "metadata": {
        "id": "JaZQjjcYFQGh"
      },
      "outputs": [],
      "source": [
        "embed_dim = 256\n",
        "dense_dim = 2048\n",
        "num_heads = 8\n",
        "\n",
        "encoder_inputs = keras.Input(shape=(None,), dtype=\"int64\", name=\"english\")\n",
        "x = PositionalEmbedding(sequence_length, vocab_size, embed_dim)(encoder_inputs)\n",
        "encoder_outputs = TransformerEncoder(embed_dim, dense_dim, num_heads)(x)\n",
        "\n",
        "decoder_inputs = keras.Input(shape=(None,), dtype=\"int64\", name=\"spanish\")\n",
        "x = PositionalEmbedding(sequence_length, vocab_size, embed_dim)(decoder_inputs)\n",
        "x = TransformerDecoder(embed_dim, dense_dim, num_heads)(x, encoder_outputs)\n",
        "x = layers.Dropout(0.5)(x)\n",
        "decoder_outputs = layers.Dense(vocab_size, activation=\"softmax\")(x)\n",
        "transformer = keras.Model([encoder_inputs, decoder_inputs], decoder_outputs)"
      ]
    },
    {
      "cell_type": "markdown",
      "metadata": {
        "id": "trkoQ4TVFQGh"
      },
      "source": [
        "**Training the sequence-to-sequence Transformer**"
      ]
    },
    {
      "cell_type": "code",
      "execution_count": null,
      "metadata": {
        "id": "m564inrUFQGh",
        "colab": {
          "base_uri": "https://localhost:8080/"
        },
        "outputId": "2199e432-15d4-4110-afd6-6753c2ee807a"
      },
      "outputs": [
        {
          "output_type": "stream",
          "name": "stdout",
          "text": [
            "Epoch 1/10\n",
            "1302/1302 [==============================] - 107s 75ms/step - loss: 1.6828 - accuracy: 0.4162 - val_loss: 1.3554 - val_accuracy: 0.5100\n",
            "Epoch 2/10\n",
            "1302/1302 [==============================] - 97s 75ms/step - loss: 1.3418 - accuracy: 0.5313 - val_loss: 1.1639 - val_accuracy: 0.5687\n",
            "Epoch 3/10\n",
            "1302/1302 [==============================] - 96s 74ms/step - loss: 1.1883 - accuracy: 0.5809 - val_loss: 1.0751 - val_accuracy: 0.6026\n",
            "Epoch 4/10\n",
            "1302/1302 [==============================] - 96s 74ms/step - loss: 1.0982 - accuracy: 0.6129 - val_loss: 1.0403 - val_accuracy: 0.6207\n",
            "Epoch 5/10\n",
            "1302/1302 [==============================] - 96s 74ms/step - loss: 1.0503 - accuracy: 0.6348 - val_loss: 1.0140 - val_accuracy: 0.6333\n",
            "Epoch 6/10\n",
            "1302/1302 [==============================] - 96s 73ms/step - loss: 1.0193 - accuracy: 0.6501 - val_loss: 1.0066 - val_accuracy: 0.6365\n",
            "Epoch 7/10\n",
            "1302/1302 [==============================] - 95s 73ms/step - loss: 0.9977 - accuracy: 0.6628 - val_loss: 0.9965 - val_accuracy: 0.6427\n",
            "Epoch 8/10\n",
            "1302/1302 [==============================] - 95s 73ms/step - loss: 0.9801 - accuracy: 0.6730 - val_loss: 0.9947 - val_accuracy: 0.6475\n",
            "Epoch 9/10\n",
            "1302/1302 [==============================] - 96s 73ms/step - loss: 0.9642 - accuracy: 0.6817 - val_loss: 0.9935 - val_accuracy: 0.6485\n",
            "Epoch 10/10\n",
            "1302/1302 [==============================] - 97s 74ms/step - loss: 0.9493 - accuracy: 0.6895 - val_loss: 0.9864 - val_accuracy: 0.6537\n"
          ]
        },
        {
          "output_type": "execute_result",
          "data": {
            "text/plain": [
              "<keras.callbacks.History at 0x7f13ac0477d0>"
            ]
          },
          "metadata": {},
          "execution_count": 15
        }
      ],
      "source": [
        "transformer.compile(\n",
        "    optimizer=\"rmsprop\",\n",
        "    loss=\"sparse_categorical_crossentropy\",\n",
        "    metrics=[\"accuracy\"])\n",
        "transformer.fit(train_ds, epochs=10, validation_data=val_ds)"
      ]
    },
    {
      "cell_type": "markdown",
      "metadata": {
        "id": "UNa1godRFQGh"
      },
      "source": [
        "**Translating new sentences with our Transformer model**"
      ]
    },
    {
      "cell_type": "code",
      "execution_count": null,
      "metadata": {
        "id": "9gAvOuwtFQGh",
        "colab": {
          "base_uri": "https://localhost:8080/"
        },
        "outputId": "c3078c73-1ace-451a-94fe-7bcd7b9cb8d4"
      },
      "outputs": [
        {
          "output_type": "stream",
          "name": "stdout",
          "text": [
            "-\n",
            "Please open it.\n",
            "[start] por favor [UNK] [end]\n",
            "-\n",
            "At first, he thought English very difficult, but now he thinks it is easy.\n",
            "[start] al primera vez él pensaba que él piensa que es fácil pero él piensa que ahora es fácil [end]\n",
            "-\n",
            "Who is there?\n",
            "[start] quién está ahí [end]\n",
            "-\n",
            "I'm making coffee.\n",
            "[start] estoy haciendo café [end]\n",
            "-\n",
            "Everybody knew Tom was in trouble.\n",
            "[start] todos sabía que tom estaba en problemas [end]\n",
            "-\n",
            "Pick me up at 2:30.\n",
            "[start] [UNK] en la semana a las dos y  [end]\n",
            "-\n",
            "Never put off till tomorrow what you can do today.\n",
            "[start] nunca te [UNK] hasta ahora que puedes hacer hoy [end]\n",
            "-\n",
            "I thought Tom was one of them.\n",
            "[start] pensé que tom era uno de ellos [end]\n",
            "-\n",
            "We should obey the rules.\n",
            "[start] deberíamos de la la no deberíamos de la la la la no deberíamos pasar [end]\n",
            "-\n",
            "You need to wear a tuxedo.\n",
            "[start] necesitas que me [UNK] una [UNK] [end]\n",
            "-\n",
            "How much time did you spend doing research before you started writing?\n",
            "[start] cuánto tiempo has hecho [UNK] la nieve antes de haber terminado de escribir [end]\n",
            "-\n",
            "He's sitting on the bench.\n",
            "[start] está dormido en el banco [end]\n",
            "-\n",
            "It has stopped raining.\n",
            "[start] ha ido de llover [end]\n",
            "-\n",
            "Is that yours?\n",
            "[start] es esa culpa de mí [end]\n",
            "-\n",
            "Do you like movies?\n",
            "[start] te gusta el cine [end]\n",
            "-\n",
            "It has started to rain.\n",
            "[start] se ha terminado de llover [end]\n",
            "-\n",
            "I'm going to buy a box of matches.\n",
            "[start] voy a comprar una caja de [UNK] [end]\n",
            "-\n",
            "You're naive.\n",
            "[start] eres ingenuo [end]\n",
            "-\n",
            "Let me explain something to you.\n",
            "[start] déjame que te [UNK] [end]\n",
            "-\n",
            "I'll go out and see the fireworks.\n",
            "[start] voy a salir y veo los [UNK] [end]\n"
          ]
        }
      ],
      "source": [
        "import numpy as np\n",
        "spa_vocab = target_vectorization.get_vocabulary()\n",
        "spa_index_lookup = dict(zip(range(len(spa_vocab)), spa_vocab))\n",
        "max_decoded_sentence_length = 20\n",
        "\n",
        "def decode_sequence(input_sentence):\n",
        "    tokenized_input_sentence = source_vectorization([input_sentence])\n",
        "    decoded_sentence = \"[start]\"\n",
        "    for i in range(max_decoded_sentence_length):\n",
        "        tokenized_target_sentence = target_vectorization(\n",
        "            [decoded_sentence])[:, :-1]\n",
        "        predictions = transformer(\n",
        "            [tokenized_input_sentence, tokenized_target_sentence])\n",
        "        sampled_token_index = np.argmax(predictions[0, i, :])\n",
        "        sampled_token = spa_index_lookup[sampled_token_index]\n",
        "        decoded_sentence += \" \" + sampled_token\n",
        "        if sampled_token == \"[end]\":\n",
        "            break\n",
        "    return decoded_sentence\n",
        "\n",
        "test_eng_texts = [pair[0] for pair in test_pairs]\n",
        "for _ in range(20):\n",
        "    input_sentence = random.choice(test_eng_texts)\n",
        "    print(\"-\")\n",
        "    print(input_sentence)\n",
        "    print(decode_sequence(input_sentence))"
      ]
    },
    {
      "cell_type": "markdown",
      "metadata": {
        "id": "FsPk1WFP7l2o"
      },
      "source": [
        "## Conclusions\n",
        "\n",
        "In this project, we went through 3 different types of problems such as Temperature forecasting problem using RNNS, Sentimental analysis using LSTMs, and NLP using transformers. For the first part of our projects, we saw the baseline model and the Deep learning model for temperature forecast. Both models contain overfitting with higher MAE than the improved model we built. In our improved model, we tried a stack of two dropout-regularized recurrent layers. For a change, we used Gated Recurrent Unit (GRU) layers instead of LSTM. So we got a lower MAE score with no overfitting. In part 2, we did the sentiment analysis by using the LSTM model where our objective was to improve the accuracy of our proposed model and we got a higher accuracy. And part 3 we didn't implement any model but rather just observe the given model and the setups. This project was really fun and we learned a lot of things but it was very time-consuming to be honest. Cause each model took around 5-10 minutes to training for a single epoch. That's why we couldn't try lots of tuning that were in our thoughts."
      ]
    }
  ]
}